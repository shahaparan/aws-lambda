{
 "cells": [
  {
   "cell_type": "code",
   "execution_count": 1,
   "id": "5acb13cf",
   "metadata": {},
   "outputs": [
    {
     "data": {
      "text/plain": [
       "'ghactivity'"
      ]
     },
     "execution_count": 1,
     "metadata": {},
     "output_type": "execute_result"
    }
   ],
   "source": [
    "import os\n",
    "os.environ.setdefault('AWS_PROFILE', 'ghactivity')"
   ]
  },
  {
   "cell_type": "code",
   "execution_count": 2,
   "id": "7562453f",
   "metadata": {},
   "outputs": [
    {
     "name": "stdout",
     "output_type": "stream",
     "text": [
      "delete: s3://aigithub/landing/ghactivity/2022-06-05-0.json.gz\n"
     ]
    }
   ],
   "source": [
    "!aws s3 rm s3://aigithub/landing/ghactivity/ --recursive"
   ]
  },
  {
   "cell_type": "code",
   "execution_count": 3,
   "id": "917056eb",
   "metadata": {},
   "outputs": [],
   "source": [
    "import boto3"
   ]
  },
  {
   "cell_type": "code",
   "execution_count": 4,
   "id": "0a0261a8",
   "metadata": {},
   "outputs": [
    {
     "data": {
      "text/plain": [
       "{'ResponseMetadata': {'RequestId': '1TK3APN8P6628EL6N8IS33ALIFVV4KQNSO5AEMVJF66Q9ASUAAJG',\n",
       "  'HTTPStatusCode': 200,\n",
       "  'HTTPHeaders': {'server': 'Server',\n",
       "   'date': 'Wed, 08 Jun 2022 15:47:42 GMT',\n",
       "   'content-type': 'application/x-amz-json-1.0',\n",
       "   'content-length': '2',\n",
       "   'connection': 'keep-alive',\n",
       "   'x-amzn-requestid': '1TK3APN8P6628EL6N8IS33ALIFVV4KQNSO5AEMVJF66Q9ASUAAJG',\n",
       "   'x-amz-crc32': '2745614147'},\n",
       "  'RetryAttempts': 0}}"
      ]
     },
     "execution_count": 4,
     "metadata": {},
     "output_type": "execute_result"
    }
   ],
   "source": [
    "dynamodb = boto3.resource('dynamodb')\n",
    "table = dynamodb.Table('jobs')\n",
    "table.delete_item(Key={'job_id': 'ghactivity_ingest'})\n",
    "item = {\n",
    "    'job_id': 'ghactivity_ingest',\n",
    "    'job_description': 'Ingest ghactivity data to s3',\n",
    "    'is_active': 'Y',\n",
    "    'baseline_days': 3\n",
    "}\n",
    "table.put_item(Item=item)"
   ]
  },
  {
   "cell_type": "code",
   "execution_count": 5,
   "id": "dbbd470a",
   "metadata": {},
   "outputs": [],
   "source": [
    "from datetime import datetime as dt\n",
    "from datetime import timedelta as td\n",
    "import time"
   ]
  },
  {
   "cell_type": "code",
   "execution_count": 6,
   "id": "966ea50b",
   "metadata": {},
   "outputs": [],
   "source": [
    "def get_job_details(job_name):\n",
    "    dynamodb = boto3.resource('dynamodb')\n",
    "    table = dynamodb.Table('jobs')\n",
    "    job_details = table.get_item(Key={'job_id': job_name})['Item']\n",
    "    return job_details"
   ]
  },
  {
   "cell_type": "code",
   "execution_count": 36,
   "id": "87cd66e8",
   "metadata": {},
   "outputs": [],
   "source": [
    "def get_next_file_name(job_details):\n",
    "    job_start_time = int(time.mktime(dt.now().timetuple()))\n",
    "    job_run_bookmark_details = job_details.get('job_run_bookmark_details')\n",
    "    baseline_days = int(job_details['baseline_days'])\n",
    "    if job_run_bookmark_details:\n",
    "        dt_part = job_run_bookmark_details['last_run_file_name'].split('.')[0].split('/')[-1]\n",
    "        next_file_name = f\"{dt.strftime(dt.strptime(dt_part, '%Y-%m-%d-%H') + td(hours=1), '%Y-%m-%d-%-H')}.json.gz\"\n",
    "    else:\n",
    "        next_file_name = f'{dt.strftime(dt.now().date() - td(days=baseline_days), \"%Y-%m-%d\")}-0.json.gz'\n",
    "    return job_start_time, next_file_name"
   ]
  },
  {
   "cell_type": "code",
   "execution_count": 11,
   "id": "d6b06c5e",
   "metadata": {},
   "outputs": [],
   "source": [
    "import requests"
   ]
  },
  {
   "cell_type": "code",
   "execution_count": 19,
   "id": "80fea12e",
   "metadata": {},
   "outputs": [],
   "source": [
    "def upload_file_to_s3(file_name, bucket_name, folder):\n",
    "   print(f'Getting the {file_name} from gharchive')\n",
    "   res = requests.get(f'https://data.gharchive.org/{file_name}')\n",
    "\n",
    "   print(f'Uploading {file_name} to s3 under s3://{bucket_name}/{folder}')\n",
    "   s3_client = boto3.client('s3')\n",
    "   upload_res = s3_client.put_object(\n",
    "      Bucket=bucket_name,\n",
    "      Key=f'{folder}/{file_name}',\n",
    "      Body=res.content\n",
    "   )\n",
    "\n",
    "   return {\n",
    "      'last_run_file_name': f's3://{bucket_name}/{folder}/{file_name}',\n",
    "      'status_code': upload_res['ResponseMetadata']['HTTPStatusCode']\n",
    "   }\n"
   ]
  },
  {
   "cell_type": "code",
   "execution_count": 20,
   "id": "7b0669e0",
   "metadata": {},
   "outputs": [],
   "source": [
    "def save_job_run_details(job_details, job_run_details, job_start_time):\n",
    "    dynamodb = boto3.resource('dynamodb')\n",
    "    job_run_details_item = {\n",
    "        'job_id': job_details['job_id'],\n",
    "        'job_run_time': job_start_time,\n",
    "        'job_run_bookmark_details': job_run_details,\n",
    "        'create_ts': int(time.mktime(dt.now().timetuple()))\n",
    "    }\n",
    "    job_run_details_table = dynamodb.Table('job_run_details')\n",
    "    job_run_details_table.put_item(Item=job_run_details_item)\n",
    "    \n",
    "    job_details_table = dynamodb.Table('jobs')\n",
    "    job_details['job_run_bookmark_details'] = job_run_details\n",
    "    job_details_table.put_item(Item=job_details)"
   ]
  },
  {
   "cell_type": "code",
   "execution_count": 21,
   "id": "91fe41af",
   "metadata": {},
   "outputs": [],
   "source": [
    "bucket_name = 'aigithub'"
   ]
  },
  {
   "cell_type": "code",
   "execution_count": 22,
   "id": "8672d6b5",
   "metadata": {},
   "outputs": [],
   "source": [
    "folder = 'landing/ghactivity'"
   ]
  },
  {
   "cell_type": "code",
   "execution_count": 23,
   "id": "9775e8f6",
   "metadata": {},
   "outputs": [
    {
     "name": "stdout",
     "output_type": "stream",
     "text": [
      "Getting the 2022-06-05-0.json.gz from gharchive\n",
      "Uploading 2022-06-05-0.json.gz to s3 under s3://aigithub/landing/ghactivity\n"
     ]
    }
   ],
   "source": [
    "job_details = get_job_details('ghactivity_ingest')\n",
    "job_start_time, next_file = get_next_file_name(job_details)\n",
    "job_run_details = upload_file_to_s3(next_file, bucket_name, folder)\n",
    "save_job_run_details(job_details, job_run_details, job_start_time)"
   ]
  },
  {
   "cell_type": "code",
   "execution_count": 24,
   "id": "068f3e8b",
   "metadata": {},
   "outputs": [
    {
     "name": "stdout",
     "output_type": "stream",
     "text": [
      "2022-06-08 21:24:04   33989636 2022-06-05-0.json.gz\n"
     ]
    }
   ],
   "source": [
    "!aws s3 ls s3://aigithub/landing/ghactivity/"
   ]
  },
  {
   "cell_type": "code",
   "execution_count": 25,
   "id": "5ddbd766",
   "metadata": {},
   "outputs": [],
   "source": [
    "job_details = get_job_details('ghactivity_ingest')"
   ]
  },
  {
   "cell_type": "code",
   "execution_count": 26,
   "id": "d4e5ac5f",
   "metadata": {},
   "outputs": [
    {
     "data": {
      "text/plain": [
       "{'job_description': 'Ingest ghactivity data to s3',\n",
       " 'is_active': 'Y',\n",
       " 'job_id': 'ghactivity_ingest',\n",
       " 'baseline_days': Decimal('3'),\n",
       " 'job_run_bookmark_details': {'last_run_file_name': 's3://aigithub/landing/ghactivity/2022-06-05-0.json.gz',\n",
       "  'status_code': Decimal('200')}}"
      ]
     },
     "execution_count": 26,
     "metadata": {},
     "output_type": "execute_result"
    }
   ],
   "source": [
    "job_details"
   ]
  },
  {
   "cell_type": "code",
   "execution_count": 27,
   "id": "05777129",
   "metadata": {},
   "outputs": [],
   "source": [
    "dynamodb = boto3.resource('dynamodb')"
   ]
  },
  {
   "cell_type": "code",
   "execution_count": 28,
   "id": "f3408dcd",
   "metadata": {},
   "outputs": [],
   "source": [
    "job_run_details_table = dynamodb.Table('job_run_details')"
   ]
  },
  {
   "cell_type": "code",
   "execution_count": 30,
   "id": "887b3700",
   "metadata": {},
   "outputs": [
    {
     "data": {
      "text/plain": [
       "{'Items': [{'job_id': 'ghactivity_ingest',\n",
       "   'job_run_bookmark_details': {'processed_file_name': '2022-06-03-0.json.gz'},\n",
       "   'job_run_time': Decimal('1654577174')},\n",
       "  {'create_ts': Decimal('1654701247'),\n",
       "   'job_id': 'ghactivity_ingest',\n",
       "   'job_run_bookmark_details': {'last_run_file_name': 's3://aigithub/landing/ghactivity/2022-06-05-0.json.gz',\n",
       "    'status_code': Decimal('200')},\n",
       "   'job_run_time': Decimal('1654700142')},\n",
       "  {'create_ts': Decimal('1654703922'),\n",
       "   'job_id': 'ghactivity_ingest',\n",
       "   'job_run_bookmark_details': {'last_run_file_name': 's3://aigithub/landing/ghactivity/2022-06-05-0.json.gz',\n",
       "    'status_code': Decimal('200')},\n",
       "   'job_run_time': Decimal('1654703636')}],\n",
       " 'Count': 3,\n",
       " 'ScannedCount': 3,\n",
       " 'ResponseMetadata': {'RequestId': 'H794VKFSF6GF48NTDJ505H0ESJVV4KQNSO5AEMVJF66Q9ASUAAJG',\n",
       "  'HTTPStatusCode': 200,\n",
       "  'HTTPHeaders': {'server': 'Server',\n",
       "   'date': 'Wed, 08 Jun 2022 16:03:31 GMT',\n",
       "   'content-type': 'application/x-amz-json-1.0',\n",
       "   'content-length': '687',\n",
       "   'connection': 'keep-alive',\n",
       "   'x-amzn-requestid': 'H794VKFSF6GF48NTDJ505H0ESJVV4KQNSO5AEMVJF66Q9ASUAAJG',\n",
       "   'x-amz-crc32': '3508143063'},\n",
       "  'RetryAttempts': 0}}"
      ]
     },
     "execution_count": 30,
     "metadata": {},
     "output_type": "execute_result"
    }
   ],
   "source": [
    "job_run_details_table.scan()"
   ]
  },
  {
   "cell_type": "code",
   "execution_count": 37,
   "id": "e0bd61ab",
   "metadata": {},
   "outputs": [
    {
     "name": "stdout",
     "output_type": "stream",
     "text": [
      "Getting the 2022-06-05-1.json.gz from gharchive\n",
      "Uploading 2022-06-05-1.json.gz to s3 under s3://aigithub/landing/ghactivity\n"
     ]
    }
   ],
   "source": [
    "job_start_time, next_file = get_next_file_name(job_details)\n",
    "job_run_details = upload_file_to_s3(next_file, bucket_name, folder)\n",
    "save_job_run_details(job_details, job_run_details, job_start_time)"
   ]
  },
  {
   "cell_type": "code",
   "execution_count": 38,
   "id": "b5413131",
   "metadata": {},
   "outputs": [
    {
     "name": "stdout",
     "output_type": "stream",
     "text": [
      "2022-06-08 21:24:04   33989636 2022-06-05-0.json.gz\n",
      "2022-06-08 21:44:13   39078924 2022-06-05-1.json.gz\n"
     ]
    }
   ],
   "source": [
    "!aws s3 ls s3://aigithub/landing/ghactivity/"
   ]
  },
  {
   "cell_type": "code",
   "execution_count": 39,
   "id": "2fbd7121",
   "metadata": {},
   "outputs": [
    {
     "data": {
      "text/plain": [
       "{'Items': [{'job_description': 'Ingest ghactivity data to s3',\n",
       "   'is_active': 'Y',\n",
       "   'job_id': 'ghactivity_ingest',\n",
       "   'baseline_days': Decimal('3'),\n",
       "   'job_run_bookmark_details': {'last_run_file_name': 's3://aigithub/landing/ghactivity/2022-06-05-1.json.gz',\n",
       "    'status_code': Decimal('200')}}],\n",
       " 'Count': 1,\n",
       " 'ScannedCount': 1,\n",
       " 'ResponseMetadata': {'RequestId': 'M813GKNU5FATNKCLOOE7D10AQBVV4KQNSO5AEMVJF66Q9ASUAAJG',\n",
       "  'HTTPStatusCode': 200,\n",
       "  'HTTPHeaders': {'server': 'Server',\n",
       "   'date': 'Wed, 08 Jun 2022 16:20:36 GMT',\n",
       "   'content-type': 'application/x-amz-json-1.0',\n",
       "   'content-length': '322',\n",
       "   'connection': 'keep-alive',\n",
       "   'x-amzn-requestid': 'M813GKNU5FATNKCLOOE7D10AQBVV4KQNSO5AEMVJF66Q9ASUAAJG',\n",
       "   'x-amz-crc32': '1472637769'},\n",
       "  'RetryAttempts': 0}}"
      ]
     },
     "execution_count": 39,
     "metadata": {},
     "output_type": "execute_result"
    }
   ],
   "source": [
    "dynamodb = boto3.resource('dynamodb')\n",
    "jobs_table = dynamodb.Table('jobs')\n",
    "jobs_table.scan()"
   ]
  },
  {
   "cell_type": "code",
   "execution_count": 41,
   "id": "b74f80aa",
   "metadata": {},
   "outputs": [
    {
     "data": {
      "text/plain": [
       "{'Items': [{'job_id': 'ghactivity_ingest',\n",
       "   'job_run_bookmark_details': {'processed_file_name': '2022-06-03-0.json.gz'},\n",
       "   'job_run_time': Decimal('1654577174')},\n",
       "  {'create_ts': Decimal('1654701247'),\n",
       "   'job_id': 'ghactivity_ingest',\n",
       "   'job_run_bookmark_details': {'last_run_file_name': 's3://aigithub/landing/ghactivity/2022-06-05-0.json.gz',\n",
       "    'status_code': Decimal('200')},\n",
       "   'job_run_time': Decimal('1654700142')},\n",
       "  {'create_ts': Decimal('1654703922'),\n",
       "   'job_id': 'ghactivity_ingest',\n",
       "   'job_run_bookmark_details': {'last_run_file_name': 's3://aigithub/landing/ghactivity/2022-06-05-0.json.gz',\n",
       "    'status_code': Decimal('200')},\n",
       "   'job_run_time': Decimal('1654703636')},\n",
       "  {'create_ts': Decimal('1654705123'),\n",
       "   'job_id': 'ghactivity_ingest',\n",
       "   'job_run_bookmark_details': {'last_run_file_name': 's3://aigithub/landing/ghactivity/2022-06-05-1.json.gz',\n",
       "    'status_code': Decimal('200')},\n",
       "   'job_run_time': Decimal('1654704838')}],\n",
       " 'Count': 4,\n",
       " 'ScannedCount': 4,\n",
       " 'ResponseMetadata': {'RequestId': 'BMQEN4P160EOI4H4JSE3OC4FPFVV4KQNSO5AEMVJF66Q9ASUAAJG',\n",
       "  'HTTPStatusCode': 200,\n",
       "  'HTTPHeaders': {'server': 'Server',\n",
       "   'date': 'Wed, 08 Jun 2022 16:21:31 GMT',\n",
       "   'content-type': 'application/x-amz-json-1.0',\n",
       "   'content-length': '933',\n",
       "   'connection': 'keep-alive',\n",
       "   'x-amzn-requestid': 'BMQEN4P160EOI4H4JSE3OC4FPFVV4KQNSO5AEMVJF66Q9ASUAAJG',\n",
       "   'x-amz-crc32': '4008601053'},\n",
       "  'RetryAttempts': 0}}"
      ]
     },
     "execution_count": 41,
     "metadata": {},
     "output_type": "execute_result"
    }
   ],
   "source": [
    "job_run_details_table = dynamodb.Table('job_run_details')\n",
    "job_run_details_table.scan()"
   ]
  },
  {
   "cell_type": "code",
   "execution_count": 40,
   "id": "8d3e1d7f",
   "metadata": {},
   "outputs": [
    {
     "name": "stdout",
     "output_type": "stream",
     "text": [
      "2022-06-08 21:44:13   39078924 2022-06-05-1.json.gz\n"
     ]
    }
   ],
   "source": [
    "!aws s3 ls s3://aigithub/landing/ghactivity/2022-06-05-1.json.gz"
   ]
  },
  {
   "cell_type": "code",
   "execution_count": null,
   "id": "ab5aea1b",
   "metadata": {},
   "outputs": [],
   "source": []
  }
 ],
 "metadata": {
  "interpreter": {
   "hash": "4bcd215c4a14989c946b0b0624b2d9cd8bc3b4ff7a1c5d476ef679e9df9c7085"
  },
  "kernelspec": {
   "display_name": "Python 3.9.12 ('ga-venv': venv)",
   "language": "python",
   "name": "python3"
  },
  "language_info": {
   "codemirror_mode": {
    "name": "ipython",
    "version": 3
   },
   "file_extension": ".py",
   "mimetype": "text/x-python",
   "name": "python",
   "nbconvert_exporter": "python",
   "pygments_lexer": "ipython3",
   "version": "3.9.12"
  }
 },
 "nbformat": 4,
 "nbformat_minor": 5
}
