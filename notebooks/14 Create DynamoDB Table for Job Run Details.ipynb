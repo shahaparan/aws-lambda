{
 "cells": [
  {
   "cell_type": "code",
   "execution_count": 1,
   "metadata": {},
   "outputs": [],
   "source": [
    "import boto3"
   ]
  },
  {
   "cell_type": "code",
   "execution_count": 2,
   "metadata": {},
   "outputs": [
    {
     "data": {
      "text/plain": [
       "'ghactivity'"
      ]
     },
     "execution_count": 2,
     "metadata": {},
     "output_type": "execute_result"
    }
   ],
   "source": [
    "import os\n",
    "os.environ.setdefault('AWS_PROFILE', 'ghactivity')"
   ]
  },
  {
   "cell_type": "code",
   "execution_count": 3,
   "metadata": {},
   "outputs": [],
   "source": [
    "dynamo_client = boto3.client('dynamodb')"
   ]
  },
  {
   "cell_type": "code",
   "execution_count": 4,
   "metadata": {},
   "outputs": [
    {
     "data": {
      "text/plain": [
       "{'TableNames': ['job_run_details', 'jobs'],\n",
       " 'ResponseMetadata': {'RequestId': '0IDLB2PSQT3PSMKBEMC4S7AG13VV4KQNSO5AEMVJF66Q9ASUAAJG',\n",
       "  'HTTPStatusCode': 200,\n",
       "  'HTTPHeaders': {'server': 'Server',\n",
       "   'date': 'Tue, 07 Jun 2022 04:37:17 GMT',\n",
       "   'content-type': 'application/x-amz-json-1.0',\n",
       "   'content-length': '41',\n",
       "   'connection': 'keep-alive',\n",
       "   'x-amzn-requestid': '0IDLB2PSQT3PSMKBEMC4S7AG13VV4KQNSO5AEMVJF66Q9ASUAAJG',\n",
       "   'x-amz-crc32': '3073332947'},\n",
       "  'RetryAttempts': 0}}"
      ]
     },
     "execution_count": 4,
     "metadata": {},
     "output_type": "execute_result"
    }
   ],
   "source": [
    "dynamo_client.list_tables()"
   ]
  },
  {
   "cell_type": "code",
   "execution_count": 6,
   "metadata": {},
   "outputs": [
    {
     "data": {
      "text/plain": [
       "{'TableDescription': {'TableName': 'job_run_details',\n",
       "  'TableStatus': 'DELETING',\n",
       "  'ProvisionedThroughput': {'NumberOfDecreasesToday': 0,\n",
       "   'ReadCapacityUnits': 0,\n",
       "   'WriteCapacityUnits': 0},\n",
       "  'TableSizeBytes': 0,\n",
       "  'ItemCount': 0,\n",
       "  'TableArn': 'arn:aws:dynamodb:us-east-1:269066542444:table/job_run_details',\n",
       "  'TableId': '58c4c521-2d5e-4210-b442-c93354574ca2',\n",
       "  'BillingModeSummary': {'BillingMode': 'PAY_PER_REQUEST',\n",
       "   'LastUpdateToPayPerRequestDateTime': datetime.datetime(2022, 6, 3, 14, 21, 56, 11000, tzinfo=tzlocal())}},\n",
       " 'ResponseMetadata': {'RequestId': '6U5PRANEV5VJ1O4LBDCK6S1ISFVV4KQNSO5AEMVJF66Q9ASUAAJG',\n",
       "  'HTTPStatusCode': 200,\n",
       "  'HTTPHeaders': {'server': 'Server',\n",
       "   'date': 'Tue, 07 Jun 2022 04:39:27 GMT',\n",
       "   'content-type': 'application/x-amz-json-1.0',\n",
       "   'content-length': '564',\n",
       "   'connection': 'keep-alive',\n",
       "   'x-amzn-requestid': '6U5PRANEV5VJ1O4LBDCK6S1ISFVV4KQNSO5AEMVJF66Q9ASUAAJG',\n",
       "   'x-amz-crc32': '3486090491'},\n",
       "  'RetryAttempts': 0}}"
      ]
     },
     "execution_count": 6,
     "metadata": {},
     "output_type": "execute_result"
    }
   ],
   "source": [
    "dynamo_client.delete_table(TableName='job_run_details')"
   ]
  },
  {
   "cell_type": "code",
   "execution_count": 7,
   "metadata": {},
   "outputs": [],
   "source": [
    "response = dynamo_client.create_table(\n",
    "    AttributeDefinitions=[\n",
    "        {\n",
    "            'AttributeName': 'job_id',\n",
    "            'AttributeType': 'S'\n",
    "        },\n",
    "                {\n",
    "            'AttributeName': 'job_run_time',\n",
    "            'AttributeType': 'N'\n",
    "        }\n",
    "    ],\n",
    "    TableName='job_run_details',\n",
    "    KeySchema=[\n",
    "        {\n",
    "          'AttributeName': 'job_id',\n",
    "          'KeyType': 'HASH'\n",
    "        },\n",
    "        {\n",
    "          'AttributeName': 'job_run_time',\n",
    "          'KeyType': 'RANGE'\n",
    "        },        \n",
    "    ],\n",
    "    BillingMode='PAY_PER_REQUEST'\n",
    ")"
   ]
  },
  {
   "cell_type": "code",
   "execution_count": 8,
   "metadata": {},
   "outputs": [
    {
     "data": {
      "text/plain": [
       "{'TableDescription': {'AttributeDefinitions': [{'AttributeName': 'job_id',\n",
       "    'AttributeType': 'S'},\n",
       "   {'AttributeName': 'job_run_time', 'AttributeType': 'N'}],\n",
       "  'TableName': 'job_run_details',\n",
       "  'KeySchema': [{'AttributeName': 'job_id', 'KeyType': 'HASH'},\n",
       "   {'AttributeName': 'job_run_time', 'KeyType': 'RANGE'}],\n",
       "  'TableStatus': 'CREATING',\n",
       "  'CreationDateTime': datetime.datetime(2022, 6, 7, 10, 10, 57, 659000, tzinfo=tzlocal()),\n",
       "  'ProvisionedThroughput': {'NumberOfDecreasesToday': 0,\n",
       "   'ReadCapacityUnits': 0,\n",
       "   'WriteCapacityUnits': 0},\n",
       "  'TableSizeBytes': 0,\n",
       "  'ItemCount': 0,\n",
       "  'TableArn': 'arn:aws:dynamodb:us-east-1:269066542444:table/job_run_details',\n",
       "  'TableId': 'abd53c13-eaa7-4d51-ad08-d1c4445daa36',\n",
       "  'BillingModeSummary': {'BillingMode': 'PAY_PER_REQUEST'}},\n",
       " 'ResponseMetadata': {'RequestId': '4TL6Q0L561E57MMQR5UJ3G3R2NVV4KQNSO5AEMVJF66Q9ASUAAJG',\n",
       "  'HTTPStatusCode': 200,\n",
       "  'HTTPHeaders': {'server': 'Server',\n",
       "   'date': 'Tue, 07 Jun 2022 04:40:57 GMT',\n",
       "   'content-type': 'application/x-amz-json-1.0',\n",
       "   'content-length': '728',\n",
       "   'connection': 'keep-alive',\n",
       "   'x-amzn-requestid': '4TL6Q0L561E57MMQR5UJ3G3R2NVV4KQNSO5AEMVJF66Q9ASUAAJG',\n",
       "   'x-amz-crc32': '3244034837'},\n",
       "  'RetryAttempts': 0}}"
      ]
     },
     "execution_count": 8,
     "metadata": {},
     "output_type": "execute_result"
    }
   ],
   "source": [
    "response"
   ]
  },
  {
   "cell_type": "code",
   "execution_count": 9,
   "metadata": {},
   "outputs": [
    {
     "data": {
      "text/plain": [
       "{'TableNames': ['job_run_details', 'jobs'],\n",
       " 'ResponseMetadata': {'RequestId': '5V25TDM787BAQ98LETVE707DLNVV4KQNSO5AEMVJF66Q9ASUAAJG',\n",
       "  'HTTPStatusCode': 200,\n",
       "  'HTTPHeaders': {'server': 'Server',\n",
       "   'date': 'Tue, 07 Jun 2022 04:45:12 GMT',\n",
       "   'content-type': 'application/x-amz-json-1.0',\n",
       "   'content-length': '41',\n",
       "   'connection': 'keep-alive',\n",
       "   'x-amzn-requestid': '5V25TDM787BAQ98LETVE707DLNVV4KQNSO5AEMVJF66Q9ASUAAJG',\n",
       "   'x-amz-crc32': '3073332947'},\n",
       "  'RetryAttempts': 0}}"
      ]
     },
     "execution_count": 9,
     "metadata": {},
     "output_type": "execute_result"
    }
   ],
   "source": [
    "dynamo_client.list_tables()"
   ]
  },
  {
   "cell_type": "code",
   "execution_count": 10,
   "metadata": {},
   "outputs": [
    {
     "data": {
      "text/plain": [
       "{'Table': {'AttributeDefinitions': [{'AttributeName': 'job_id',\n",
       "    'AttributeType': 'S'},\n",
       "   {'AttributeName': 'job_run_time', 'AttributeType': 'N'}],\n",
       "  'TableName': 'job_run_details',\n",
       "  'KeySchema': [{'AttributeName': 'job_id', 'KeyType': 'HASH'},\n",
       "   {'AttributeName': 'job_run_time', 'KeyType': 'RANGE'}],\n",
       "  'TableStatus': 'ACTIVE',\n",
       "  'CreationDateTime': datetime.datetime(2022, 6, 7, 10, 10, 57, 659000, tzinfo=tzlocal()),\n",
       "  'ProvisionedThroughput': {'NumberOfDecreasesToday': 0,\n",
       "   'ReadCapacityUnits': 0,\n",
       "   'WriteCapacityUnits': 0},\n",
       "  'TableSizeBytes': 0,\n",
       "  'ItemCount': 0,\n",
       "  'TableArn': 'arn:aws:dynamodb:us-east-1:269066542444:table/job_run_details',\n",
       "  'TableId': 'abd53c13-eaa7-4d51-ad08-d1c4445daa36',\n",
       "  'BillingModeSummary': {'BillingMode': 'PAY_PER_REQUEST',\n",
       "   'LastUpdateToPayPerRequestDateTime': datetime.datetime(2022, 6, 7, 10, 10, 57, 659000, tzinfo=tzlocal())}},\n",
       " 'ResponseMetadata': {'RequestId': 'P307P2T10I682L748KPPM3E5MJVV4KQNSO5AEMVJF66Q9ASUAAJG',\n",
       "  'HTTPStatusCode': 200,\n",
       "  'HTTPHeaders': {'server': 'Server',\n",
       "   'date': 'Tue, 07 Jun 2022 04:45:20 GMT',\n",
       "   'content-type': 'application/x-amz-json-1.0',\n",
       "   'content-length': '821',\n",
       "   'connection': 'keep-alive',\n",
       "   'x-amzn-requestid': 'P307P2T10I682L748KPPM3E5MJVV4KQNSO5AEMVJF66Q9ASUAAJG',\n",
       "   'x-amz-crc32': '1531614386'},\n",
       "  'RetryAttempts': 0}}"
      ]
     },
     "execution_count": 10,
     "metadata": {},
     "output_type": "execute_result"
    }
   ],
   "source": [
    "dynamo_client.describe_table(TableName='job_run_details')"
   ]
  },
  {
   "cell_type": "code",
   "execution_count": 11,
   "metadata": {},
   "outputs": [],
   "source": [
    "dynamodb_resource = boto3.resource('dynamodb')"
   ]
  },
  {
   "cell_type": "code",
   "execution_count": 12,
   "metadata": {},
   "outputs": [],
   "source": [
    "job_details_table = dynamodb_resource.Table('job_run_details')"
   ]
  },
  {
   "cell_type": "code",
   "execution_count": 13,
   "metadata": {},
   "outputs": [],
   "source": [
    "import time\n",
    "import datetime"
   ]
  },
  {
   "cell_type": "code",
   "execution_count": 14,
   "metadata": {},
   "outputs": [
    {
     "data": {
      "text/plain": [
       "1654577169"
      ]
     },
     "execution_count": 14,
     "metadata": {},
     "output_type": "execute_result"
    }
   ],
   "source": [
    "int(time.mktime(datetime.datetime.now().timetuple()))"
   ]
  },
  {
   "cell_type": "code",
   "execution_count": 15,
   "metadata": {},
   "outputs": [],
   "source": [
    "jrd_item = {\n",
    "    'job_id': 'ghactivity_ingest',\n",
    "    'job_run_time': int(time.mktime(datetime.datetime.now().timetuple())),\n",
    "    'job_run_bookmark_details': {\n",
    "        'processed_file_name': '2022-06-03-0.json.gz'\n",
    "    }\n",
    "}"
   ]
  },
  {
   "cell_type": "code",
   "execution_count": 16,
   "metadata": {},
   "outputs": [
    {
     "data": {
      "text/plain": [
       "{'job_id': 'ghactivity_ingest',\n",
       " 'job_run_time': 1654577174,\n",
       " 'job_run_bookmark_details': {'processed_file_name': '2022-06-03-0.json.gz'}}"
      ]
     },
     "execution_count": 16,
     "metadata": {},
     "output_type": "execute_result"
    }
   ],
   "source": [
    "jrd_item"
   ]
  },
  {
   "cell_type": "code",
   "execution_count": 17,
   "metadata": {},
   "outputs": [
    {
     "data": {
      "text/plain": [
       "{'ResponseMetadata': {'RequestId': 'JU78GGONMB34P4ATNIKB2SRS5NVV4KQNSO5AEMVJF66Q9ASUAAJG',\n",
       "  'HTTPStatusCode': 200,\n",
       "  'HTTPHeaders': {'server': 'Server',\n",
       "   'date': 'Tue, 07 Jun 2022 04:46:32 GMT',\n",
       "   'content-type': 'application/x-amz-json-1.0',\n",
       "   'content-length': '2',\n",
       "   'connection': 'keep-alive',\n",
       "   'x-amzn-requestid': 'JU78GGONMB34P4ATNIKB2SRS5NVV4KQNSO5AEMVJF66Q9ASUAAJG',\n",
       "   'x-amz-crc32': '2745614147'},\n",
       "  'RetryAttempts': 0}}"
      ]
     },
     "execution_count": 17,
     "metadata": {},
     "output_type": "execute_result"
    }
   ],
   "source": [
    "job_details_table.put_item(\n",
    "    Item=jrd_item\n",
    ")"
   ]
  },
  {
   "cell_type": "code",
   "execution_count": 18,
   "metadata": {},
   "outputs": [
    {
     "data": {
      "text/plain": [
       "{'Items': [{'job_id': 'ghactivity_ingest',\n",
       "   'job_run_bookmark_details': {'processed_file_name': '2022-06-03-0.json.gz'},\n",
       "   'job_run_time': Decimal('1654577174')}],\n",
       " 'Count': 1,\n",
       " 'ScannedCount': 1,\n",
       " 'ResponseMetadata': {'RequestId': '2M9A7H1MTEUTAO0KQVNH25LA17VV4KQNSO5AEMVJF66Q9ASUAAJG',\n",
       "  'HTTPStatusCode': 200,\n",
       "  'HTTPHeaders': {'server': 'Server',\n",
       "   'date': 'Tue, 07 Jun 2022 04:46:35 GMT',\n",
       "   'content-type': 'application/x-amz-json-1.0',\n",
       "   'content-length': '195',\n",
       "   'connection': 'keep-alive',\n",
       "   'x-amzn-requestid': '2M9A7H1MTEUTAO0KQVNH25LA17VV4KQNSO5AEMVJF66Q9ASUAAJG',\n",
       "   'x-amz-crc32': '2735617397'},\n",
       "  'RetryAttempts': 0}}"
      ]
     },
     "execution_count": 18,
     "metadata": {},
     "output_type": "execute_result"
    }
   ],
   "source": [
    "job_details_table.scan()"
   ]
  },
  {
   "cell_type": "code",
   "execution_count": null,
   "metadata": {},
   "outputs": [],
   "source": []
  }
 ],
 "metadata": {
  "interpreter": {
   "hash": "4bcd215c4a14989c946b0b0624b2d9cd8bc3b4ff7a1c5d476ef679e9df9c7085"
  },
  "kernelspec": {
   "display_name": "Python 3.9.12 ('ga-venv': venv)",
   "language": "python",
   "name": "python3"
  },
  "language_info": {
   "codemirror_mode": {
    "name": "ipython",
    "version": 3
   },
   "file_extension": ".py",
   "mimetype": "text/x-python",
   "name": "python",
   "nbconvert_exporter": "python",
   "pygments_lexer": "ipython3",
   "version": "3.9.12"
  },
  "orig_nbformat": 4
 },
 "nbformat": 4,
 "nbformat_minor": 2
}
