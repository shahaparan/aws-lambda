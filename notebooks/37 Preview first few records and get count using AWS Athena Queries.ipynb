{
 "cells": [
  {
   "cell_type": "markdown",
   "metadata": {},
   "source": [
    "Here are the queries used for the demo to preview first few records and get count using AWS Athena Queries.\n",
    "\n",
    "```sql\n",
    "SELECT * FROM ghactivity LIMIT 10\n",
    "\n",
    "SELECT count(*) FROM ghactivity\n",
    "\n",
    "SELECT min(created_at), max(created_at) FROM ghactivity\n",
    "\n",
    "SELECT year, month, dayofmonth, count(*) AS activity_count\n",
    "FROM ghactivity\n",
    "GROUP BY year, month, dayofmonth\n",
    "ORDER BY 1, 2, 3\n",
    "\n",
    "SELECT id, type, year, month, dayofmonth, created_at\n",
    "FROM ghactivity\n",
    "LIMIT 10\n",
    "\n",
    "SELECT date(created_at) FROM ghactivity LIMIT 10\n",
    "\n",
    "SELECT date(created_at) AS created_at, count(*) AS activity_count\n",
    "FROM ghactivity\n",
    "GROUP BY date(created_at)\n",
    "ORDER BY 1\n",
    "```"
   ]
  },
  {
   "cell_type": "markdown",
   "metadata": {},
   "source": []
  }
 ],
 "metadata": {
  "kernelspec": {
   "display_name": "Python 3.9.12 ('ga-venv': venv)",
   "language": "python",
   "name": "python3"
  },
  "language_info": {
   "codemirror_mode": {
    "name": "ipython",
    "version": 3
   },
   "file_extension": ".py",
   "mimetype": "text/x-python",
   "name": "python",
   "nbconvert_exporter": "python",
   "pygments_lexer": "ipython3",
   "version": "3.9.12"
  },
  "orig_nbformat": 4,
  "vscode": {
   "interpreter": {
    "hash": "4bcd215c4a14989c946b0b0624b2d9cd8bc3b4ff7a1c5d476ef679e9df9c7085"
   }
  }
 },
 "nbformat": 4,
 "nbformat_minor": 2
}
