{
 "cells": [
  {
   "cell_type": "code",
   "execution_count": 1,
   "id": "988efa1f",
   "metadata": {},
   "outputs": [
    {
     "data": {
      "text/plain": [
       "'ghactivity'"
      ]
     },
     "execution_count": 1,
     "metadata": {},
     "output_type": "execute_result"
    }
   ],
   "source": [
    "import os\n",
    "os.environ.setdefault('AWS_PROFILE', 'ghactivity')"
   ]
  },
  {
   "cell_type": "code",
   "execution_count": 2,
   "id": "5470384d-4267-4125-9733-13739c50dde7",
   "metadata": {},
   "outputs": [
    {
     "name": "stdout",
     "output_type": "stream",
     "text": [
      "2022-06-08 20:38:37   33989636 landing/ghactivity/2022-06-05-0.json.gz\n"
     ]
    }
   ],
   "source": [
    "!aws s3 ls s3://aigithub/landing/ghactivity/ --recursive"
   ]
  },
  {
   "cell_type": "code",
   "execution_count": 3,
   "id": "5dafd62c-b61d-49aa-b113-5e87a2f4aa1c",
   "metadata": {},
   "outputs": [],
   "source": [
    "import boto3"
   ]
  },
  {
   "cell_type": "code",
   "execution_count": 4,
   "id": "a92f10ee-5f88-4d49-bf13-bca05e42e9fb",
   "metadata": {},
   "outputs": [],
   "source": [
    "dynamodb = boto3.resource('dynamodb')"
   ]
  },
  {
   "cell_type": "code",
   "execution_count": 5,
   "id": "1862694e-9143-4e69-9508-757eefa3b066",
   "metadata": {},
   "outputs": [],
   "source": [
    "itr = dynamodb.tables.iterator()"
   ]
  },
  {
   "cell_type": "code",
   "execution_count": 6,
   "id": "873701a6-29d3-4f26-9fd7-770818ecdbb7",
   "metadata": {},
   "outputs": [
    {
     "name": "stdout",
     "output_type": "stream",
     "text": [
      "dynamodb.Table(name='job_run_details')\n",
      "dynamodb.Table(name='jobs')\n"
     ]
    }
   ],
   "source": [
    "for table in itr:\n",
    "    print(table)"
   ]
  },
  {
   "cell_type": "code",
   "execution_count": 7,
   "id": "60485dc5-153d-434c-a287-ac57f42a05cf",
   "metadata": {},
   "outputs": [],
   "source": [
    "jobs_table = dynamodb.Table('jobs')"
   ]
  },
  {
   "cell_type": "code",
   "execution_count": 8,
   "id": "feb93efd-c911-4595-8d65-12151804980e",
   "metadata": {},
   "outputs": [
    {
     "data": {
      "text/plain": [
       "{'Items': [{'job_description': 'Ingest ghactivity data to s3',\n",
       "   'is_active': 'Y',\n",
       "   'job_id': 'ghactivity_ingest',\n",
       "   'baseline_days': Decimal('3'),\n",
       "   'job_run_bookmark_details': {'last_run_file_name': 's3://aigithub/landing/ghactivity/2022-06-05-0.json.gz',\n",
       "    'status_code': Decimal('200')}}],\n",
       " 'Count': 1,\n",
       " 'ScannedCount': 1,\n",
       " 'ResponseMetadata': {'RequestId': '3GR309KER7RKP291Q4UTDSB6NRVV4KQNSO5AEMVJF66Q9ASUAAJG',\n",
       "  'HTTPStatusCode': 200,\n",
       "  'HTTPHeaders': {'server': 'Server',\n",
       "   'date': 'Wed, 08 Jun 2022 15:20:34 GMT',\n",
       "   'content-type': 'application/x-amz-json-1.0',\n",
       "   'content-length': '322',\n",
       "   'connection': 'keep-alive',\n",
       "   'x-amzn-requestid': '3GR309KER7RKP291Q4UTDSB6NRVV4KQNSO5AEMVJF66Q9ASUAAJG',\n",
       "   'x-amz-crc32': '1049276088'},\n",
       "  'RetryAttempts': 0}}"
      ]
     },
     "execution_count": 8,
     "metadata": {},
     "output_type": "execute_result"
    }
   ],
   "source": [
    "jobs_table.scan()"
   ]
  },
  {
   "cell_type": "code",
   "execution_count": 9,
   "id": "e3c9fab5-8022-41f1-9854-63b532c71cd0",
   "metadata": {},
   "outputs": [],
   "source": [
    "job_run_details_table = dynamodb.Table('job_run_details')"
   ]
  },
  {
   "cell_type": "code",
   "execution_count": 10,
   "id": "1e720a4e-52cc-4228-aab1-f6977154c7e0",
   "metadata": {},
   "outputs": [
    {
     "data": {
      "text/plain": [
       "{'Items': [{'job_id': 'ghactivity_ingest',\n",
       "   'job_run_bookmark_details': {'processed_file_name': '2022-06-03-0.json.gz'},\n",
       "   'job_run_time': Decimal('1654577174')},\n",
       "  {'create_ts': Decimal('1654701247'),\n",
       "   'job_id': 'ghactivity_ingest',\n",
       "   'job_run_bookmark_details': {'last_run_file_name': 's3://aigithub/landing/ghactivity/2022-06-05-0.json.gz',\n",
       "    'status_code': Decimal('200')},\n",
       "   'job_run_time': Decimal('1654700142')}],\n",
       " 'Count': 2,\n",
       " 'ScannedCount': 2,\n",
       " 'ResponseMetadata': {'RequestId': 'L6NDFM579CRII06F3JB05F2E2VVV4KQNSO5AEMVJF66Q9ASUAAJG',\n",
       "  'HTTPStatusCode': 200,\n",
       "  'HTTPHeaders': {'server': 'Server',\n",
       "   'date': 'Wed, 08 Jun 2022 15:26:43 GMT',\n",
       "   'content-type': 'application/x-amz-json-1.0',\n",
       "   'content-length': '441',\n",
       "   'connection': 'keep-alive',\n",
       "   'x-amzn-requestid': 'L6NDFM579CRII06F3JB05F2E2VVV4KQNSO5AEMVJF66Q9ASUAAJG',\n",
       "   'x-amz-crc32': '2578931941'},\n",
       "  'RetryAttempts': 0}}"
      ]
     },
     "execution_count": 10,
     "metadata": {},
     "output_type": "execute_result"
    }
   ],
   "source": [
    "job_run_details_table.scan()"
   ]
  },
  {
   "cell_type": "code",
   "execution_count": 11,
   "id": "f7e81801-e770-442f-a2a6-161a262762cb",
   "metadata": {},
   "outputs": [],
   "source": [
    "import pandas as pd"
   ]
  },
  {
   "cell_type": "code",
   "execution_count": 12,
   "id": "c4dc84fc",
   "metadata": {},
   "outputs": [
    {
     "name": "stdout",
     "output_type": "stream",
     "text": [
      "2022-06-08 20:38:37   33989636 2022-06-05-0.json.gz\n"
     ]
    }
   ],
   "source": [
    "!aws s3 ls s3://aigithub/landing/ghactivity/"
   ]
  },
  {
   "cell_type": "code",
   "execution_count": 13,
   "id": "94fbb36c",
   "metadata": {},
   "outputs": [],
   "source": [
    "file_name = '2022-06-05-0.json.gz'"
   ]
  },
  {
   "cell_type": "code",
   "execution_count": 14,
   "id": "c7ba27d3-43a7-48c7-ada6-6c39844ff7ed",
   "metadata": {},
   "outputs": [],
   "source": [
    "df = pd.read_json(\n",
    "    f's3://aigithub/landing/ghactivity/{file_name}',\n",
    "    lines=True,\n",
    "    orient='records'\n",
    ")"
   ]
  },
  {
   "cell_type": "code",
   "execution_count": 15,
   "id": "86c44382-3881-468c-a8ed-6b13bb08c8f9",
   "metadata": {},
   "outputs": [
    {
     "data": {
      "text/plain": [
       "Index(['id', 'type', 'actor', 'repo', 'payload', 'public', 'created_at',\n",
       "       'org'],\n",
       "      dtype='object')"
      ]
     },
     "execution_count": 15,
     "metadata": {},
     "output_type": "execute_result"
    }
   ],
   "source": [
    "df.columns"
   ]
  },
  {
   "cell_type": "code",
   "execution_count": 16,
   "id": "676441c3-e042-43f9-9947-11f1726e44ec",
   "metadata": {},
   "outputs": [
    {
     "data": {
      "text/plain": [
       "(89443, 8)"
      ]
     },
     "execution_count": 16,
     "metadata": {},
     "output_type": "execute_result"
    }
   ],
   "source": [
    "df.shape"
   ]
  },
  {
   "cell_type": "code",
   "execution_count": 17,
   "id": "86e3f6df",
   "metadata": {},
   "outputs": [
    {
     "data": {
      "text/plain": [
       "id            89443\n",
       "type          89443\n",
       "actor         89443\n",
       "repo          89443\n",
       "payload       89443\n",
       "public        89443\n",
       "created_at    89443\n",
       "org           20380\n",
       "dtype: int64"
      ]
     },
     "execution_count": 17,
     "metadata": {},
     "output_type": "execute_result"
    }
   ],
   "source": [
    "df.count()"
   ]
  },
  {
   "cell_type": "code",
   "execution_count": 18,
   "id": "233d40db",
   "metadata": {},
   "outputs": [
    {
     "data": {
      "text/html": [
       "<div>\n",
       "<style scoped>\n",
       "    .dataframe tbody tr th:only-of-type {\n",
       "        vertical-align: middle;\n",
       "    }\n",
       "\n",
       "    .dataframe tbody tr th {\n",
       "        vertical-align: top;\n",
       "    }\n",
       "\n",
       "    .dataframe thead th {\n",
       "        text-align: right;\n",
       "    }\n",
       "</style>\n",
       "<table border=\"1\" class=\"dataframe\">\n",
       "  <thead>\n",
       "    <tr style=\"text-align: right;\">\n",
       "      <th></th>\n",
       "      <th>id</th>\n",
       "      <th>type</th>\n",
       "      <th>actor</th>\n",
       "      <th>repo</th>\n",
       "      <th>payload</th>\n",
       "      <th>public</th>\n",
       "      <th>created_at</th>\n",
       "      <th>org</th>\n",
       "    </tr>\n",
       "  </thead>\n",
       "  <tbody>\n",
       "    <tr>\n",
       "      <th>0</th>\n",
       "      <td>22164041431</td>\n",
       "      <td>CreateEvent</td>\n",
       "      <td>{'id': 44050213, 'login': 'collisioncataclysm'...</td>\n",
       "      <td>{'id': 496726861, 'name': 'collisioncataclysm/...</td>\n",
       "      <td>{'ref': 'snyk-upgrade-54c90b4fba783e33846b3123...</td>\n",
       "      <td>True</td>\n",
       "      <td>2022-06-05 00:00:00+00:00</td>\n",
       "      <td>NaN</td>\n",
       "    </tr>\n",
       "    <tr>\n",
       "      <th>1</th>\n",
       "      <td>22164041432</td>\n",
       "      <td>PushEvent</td>\n",
       "      <td>{'id': 92907907, 'login': 'znyt', 'display_log...</td>\n",
       "      <td>{'id': 446902156, 'name': 'znyt/oss111', 'url'...</td>\n",
       "      <td>{'push_id': 10072717837, 'size': 1, 'distinct_...</td>\n",
       "      <td>True</td>\n",
       "      <td>2022-06-05 00:00:00+00:00</td>\n",
       "      <td>NaN</td>\n",
       "    </tr>\n",
       "    <tr>\n",
       "      <th>2</th>\n",
       "      <td>22164041434</td>\n",
       "      <td>PushEvent</td>\n",
       "      <td>{'id': 44050213, 'login': 'collisioncataclysm'...</td>\n",
       "      <td>{'id': 496726861, 'name': 'collisioncataclysm/...</td>\n",
       "      <td>{'push_id': 10072717839, 'size': 1, 'distinct_...</td>\n",
       "      <td>True</td>\n",
       "      <td>2022-06-05 00:00:00+00:00</td>\n",
       "      <td>NaN</td>\n",
       "    </tr>\n",
       "    <tr>\n",
       "      <th>3</th>\n",
       "      <td>22164041435</td>\n",
       "      <td>CreateEvent</td>\n",
       "      <td>{'id': 88858119, 'login': 'danrprado', 'displa...</td>\n",
       "      <td>{'id': 496835873, 'name': 'danrprado/cpanel-ap...</td>\n",
       "      <td>{'ref': 'update-readme', 'ref_type': 'branch',...</td>\n",
       "      <td>True</td>\n",
       "      <td>2022-06-05 00:00:00+00:00</td>\n",
       "      <td>NaN</td>\n",
       "    </tr>\n",
       "    <tr>\n",
       "      <th>4</th>\n",
       "      <td>22164041436</td>\n",
       "      <td>PushEvent</td>\n",
       "      <td>{'id': 69619077, 'login': 'szk302', 'display_l...</td>\n",
       "      <td>{'id': 430227097, 'name': 'szk302/dev-blog-htm...</td>\n",
       "      <td>{'push_id': 10072717843, 'size': 1, 'distinct_...</td>\n",
       "      <td>True</td>\n",
       "      <td>2022-06-05 00:00:00+00:00</td>\n",
       "      <td>NaN</td>\n",
       "    </tr>\n",
       "    <tr>\n",
       "      <th>...</th>\n",
       "      <td>...</td>\n",
       "      <td>...</td>\n",
       "      <td>...</td>\n",
       "      <td>...</td>\n",
       "      <td>...</td>\n",
       "      <td>...</td>\n",
       "      <td>...</td>\n",
       "      <td>...</td>\n",
       "    </tr>\n",
       "    <tr>\n",
       "      <th>89438</th>\n",
       "      <td>22164283614</td>\n",
       "      <td>MemberEvent</td>\n",
       "      <td>{'id': 9045568, 'login': 'BLACKM3SA', 'display...</td>\n",
       "      <td>{'id': 474412075, 'name': 'BLACKM3SA/hdtfmapsr...</td>\n",
       "      <td>{'member': {'login': 'WhiteRedDragons', 'id': ...</td>\n",
       "      <td>True</td>\n",
       "      <td>2022-06-05 00:59:59+00:00</td>\n",
       "      <td>NaN</td>\n",
       "    </tr>\n",
       "    <tr>\n",
       "      <th>89439</th>\n",
       "      <td>22164283615</td>\n",
       "      <td>PushEvent</td>\n",
       "      <td>{'id': 106707938, 'login': 'katemarcher', 'dis...</td>\n",
       "      <td>{'id': 498901780, 'name': 'katemarcher/2', 'ur...</td>\n",
       "      <td>{'push_id': 10072883313, 'size': 1, 'distinct_...</td>\n",
       "      <td>True</td>\n",
       "      <td>2022-06-05 00:59:59+00:00</td>\n",
       "      <td>NaN</td>\n",
       "    </tr>\n",
       "    <tr>\n",
       "      <th>89440</th>\n",
       "      <td>22164283997</td>\n",
       "      <td>PullRequestReviewCommentEvent</td>\n",
       "      <td>{'id': 25141164, 'login': 'StrikerRUS', 'displ...</td>\n",
       "      <td>{'id': 64991887, 'name': 'microsoft/LightGBM',...</td>\n",
       "      <td>{'action': 'created', 'comment': {'url': 'http...</td>\n",
       "      <td>True</td>\n",
       "      <td>2022-06-05 00:48:34+00:00</td>\n",
       "      <td>{'id': 6154722, 'login': 'microsoft', 'gravata...</td>\n",
       "    </tr>\n",
       "    <tr>\n",
       "      <th>89441</th>\n",
       "      <td>22164284022</td>\n",
       "      <td>PullRequestReviewCommentEvent</td>\n",
       "      <td>{'id': 25141164, 'login': 'StrikerRUS', 'displ...</td>\n",
       "      <td>{'id': 64991887, 'name': 'microsoft/LightGBM',...</td>\n",
       "      <td>{'action': 'created', 'comment': {'url': 'http...</td>\n",
       "      <td>True</td>\n",
       "      <td>2022-06-05 00:55:50+00:00</td>\n",
       "      <td>{'id': 6154722, 'login': 'microsoft', 'gravata...</td>\n",
       "    </tr>\n",
       "    <tr>\n",
       "      <th>89442</th>\n",
       "      <td>22164284029</td>\n",
       "      <td>PullRequestReviewCommentEvent</td>\n",
       "      <td>{'id': 25141164, 'login': 'StrikerRUS', 'displ...</td>\n",
       "      <td>{'id': 64991887, 'name': 'microsoft/LightGBM',...</td>\n",
       "      <td>{'action': 'created', 'comment': {'url': 'http...</td>\n",
       "      <td>True</td>\n",
       "      <td>2022-06-05 00:57:51+00:00</td>\n",
       "      <td>{'id': 6154722, 'login': 'microsoft', 'gravata...</td>\n",
       "    </tr>\n",
       "  </tbody>\n",
       "</table>\n",
       "<p>89443 rows × 8 columns</p>\n",
       "</div>"
      ],
      "text/plain": [
       "                id                           type  \\\n",
       "0      22164041431                    CreateEvent   \n",
       "1      22164041432                      PushEvent   \n",
       "2      22164041434                      PushEvent   \n",
       "3      22164041435                    CreateEvent   \n",
       "4      22164041436                      PushEvent   \n",
       "...            ...                            ...   \n",
       "89438  22164283614                    MemberEvent   \n",
       "89439  22164283615                      PushEvent   \n",
       "89440  22164283997  PullRequestReviewCommentEvent   \n",
       "89441  22164284022  PullRequestReviewCommentEvent   \n",
       "89442  22164284029  PullRequestReviewCommentEvent   \n",
       "\n",
       "                                                   actor  \\\n",
       "0      {'id': 44050213, 'login': 'collisioncataclysm'...   \n",
       "1      {'id': 92907907, 'login': 'znyt', 'display_log...   \n",
       "2      {'id': 44050213, 'login': 'collisioncataclysm'...   \n",
       "3      {'id': 88858119, 'login': 'danrprado', 'displa...   \n",
       "4      {'id': 69619077, 'login': 'szk302', 'display_l...   \n",
       "...                                                  ...   \n",
       "89438  {'id': 9045568, 'login': 'BLACKM3SA', 'display...   \n",
       "89439  {'id': 106707938, 'login': 'katemarcher', 'dis...   \n",
       "89440  {'id': 25141164, 'login': 'StrikerRUS', 'displ...   \n",
       "89441  {'id': 25141164, 'login': 'StrikerRUS', 'displ...   \n",
       "89442  {'id': 25141164, 'login': 'StrikerRUS', 'displ...   \n",
       "\n",
       "                                                    repo  \\\n",
       "0      {'id': 496726861, 'name': 'collisioncataclysm/...   \n",
       "1      {'id': 446902156, 'name': 'znyt/oss111', 'url'...   \n",
       "2      {'id': 496726861, 'name': 'collisioncataclysm/...   \n",
       "3      {'id': 496835873, 'name': 'danrprado/cpanel-ap...   \n",
       "4      {'id': 430227097, 'name': 'szk302/dev-blog-htm...   \n",
       "...                                                  ...   \n",
       "89438  {'id': 474412075, 'name': 'BLACKM3SA/hdtfmapsr...   \n",
       "89439  {'id': 498901780, 'name': 'katemarcher/2', 'ur...   \n",
       "89440  {'id': 64991887, 'name': 'microsoft/LightGBM',...   \n",
       "89441  {'id': 64991887, 'name': 'microsoft/LightGBM',...   \n",
       "89442  {'id': 64991887, 'name': 'microsoft/LightGBM',...   \n",
       "\n",
       "                                                 payload  public  \\\n",
       "0      {'ref': 'snyk-upgrade-54c90b4fba783e33846b3123...    True   \n",
       "1      {'push_id': 10072717837, 'size': 1, 'distinct_...    True   \n",
       "2      {'push_id': 10072717839, 'size': 1, 'distinct_...    True   \n",
       "3      {'ref': 'update-readme', 'ref_type': 'branch',...    True   \n",
       "4      {'push_id': 10072717843, 'size': 1, 'distinct_...    True   \n",
       "...                                                  ...     ...   \n",
       "89438  {'member': {'login': 'WhiteRedDragons', 'id': ...    True   \n",
       "89439  {'push_id': 10072883313, 'size': 1, 'distinct_...    True   \n",
       "89440  {'action': 'created', 'comment': {'url': 'http...    True   \n",
       "89441  {'action': 'created', 'comment': {'url': 'http...    True   \n",
       "89442  {'action': 'created', 'comment': {'url': 'http...    True   \n",
       "\n",
       "                     created_at  \\\n",
       "0     2022-06-05 00:00:00+00:00   \n",
       "1     2022-06-05 00:00:00+00:00   \n",
       "2     2022-06-05 00:00:00+00:00   \n",
       "3     2022-06-05 00:00:00+00:00   \n",
       "4     2022-06-05 00:00:00+00:00   \n",
       "...                         ...   \n",
       "89438 2022-06-05 00:59:59+00:00   \n",
       "89439 2022-06-05 00:59:59+00:00   \n",
       "89440 2022-06-05 00:48:34+00:00   \n",
       "89441 2022-06-05 00:55:50+00:00   \n",
       "89442 2022-06-05 00:57:51+00:00   \n",
       "\n",
       "                                                     org  \n",
       "0                                                    NaN  \n",
       "1                                                    NaN  \n",
       "2                                                    NaN  \n",
       "3                                                    NaN  \n",
       "4                                                    NaN  \n",
       "...                                                  ...  \n",
       "89438                                                NaN  \n",
       "89439                                                NaN  \n",
       "89440  {'id': 6154722, 'login': 'microsoft', 'gravata...  \n",
       "89441  {'id': 6154722, 'login': 'microsoft', 'gravata...  \n",
       "89442  {'id': 6154722, 'login': 'microsoft', 'gravata...  \n",
       "\n",
       "[89443 rows x 8 columns]"
      ]
     },
     "execution_count": 18,
     "metadata": {},
     "output_type": "execute_result"
    }
   ],
   "source": [
    "df"
   ]
  },
  {
   "cell_type": "code",
   "execution_count": null,
   "id": "da2312ba",
   "metadata": {},
   "outputs": [],
   "source": []
  }
 ],
 "metadata": {
  "interpreter": {
   "hash": "4bcd215c4a14989c946b0b0624b2d9cd8bc3b4ff7a1c5d476ef679e9df9c7085"
  },
  "kernelspec": {
   "display_name": "Python 3.9.12 ('ga-venv': venv)",
   "language": "python",
   "name": "python3"
  },
  "language_info": {
   "codemirror_mode": {
    "name": "ipython",
    "version": 3
   },
   "file_extension": ".py",
   "mimetype": "text/x-python",
   "name": "python",
   "nbconvert_exporter": "python",
   "pygments_lexer": "ipython3",
   "version": "3.9.12"
  }
 },
 "nbformat": 4,
 "nbformat_minor": 5
}
