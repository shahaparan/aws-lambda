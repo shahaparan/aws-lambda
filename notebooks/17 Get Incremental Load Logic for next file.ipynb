{
 "cells": [
  {
   "cell_type": "code",
   "execution_count": 1,
   "metadata": {},
   "outputs": [],
   "source": [
    "import boto3"
   ]
  },
  {
   "cell_type": "code",
   "execution_count": 2,
   "metadata": {},
   "outputs": [
    {
     "data": {
      "text/plain": [
       "'ghactivity'"
      ]
     },
     "execution_count": 2,
     "metadata": {},
     "output_type": "execute_result"
    }
   ],
   "source": [
    "import os\n",
    "os.environ.setdefault('AWS_PROFILE', 'ghactivity')"
   ]
  },
  {
   "cell_type": "code",
   "execution_count": 3,
   "metadata": {},
   "outputs": [],
   "source": [
    "def get_job_details(job_name):\n",
    "    dynamodb = boto3.resource('dynamodb')\n",
    "    table = dynamodb.Table('jobs')\n",
    "    job_details = table.get_item(Key={'job_id': job_name})['Item']\n",
    "    return job_details"
   ]
  },
  {
   "cell_type": "code",
   "execution_count": 4,
   "metadata": {},
   "outputs": [
    {
     "data": {
      "text/plain": [
       "{'job_description': 'Ingest ghactivity data to s3',\n",
       " 'is_active': 'Y',\n",
       " 'job_id': 'ghactivity_ingest',\n",
       " 'baseline_days': Decimal('3')}"
      ]
     },
     "execution_count": 4,
     "metadata": {},
     "output_type": "execute_result"
    }
   ],
   "source": [
    "job_details = get_job_details('ghactivity_ingest')\n",
    "job_details"
   ]
  },
  {
   "cell_type": "code",
   "execution_count": 5,
   "metadata": {},
   "outputs": [
    {
     "data": {
      "text/plain": [
       "Decimal('3')"
      ]
     },
     "execution_count": 5,
     "metadata": {},
     "output_type": "execute_result"
    }
   ],
   "source": [
    "baseline_days = job_details['baseline_days']\n",
    "baseline_days"
   ]
  },
  {
   "cell_type": "code",
   "execution_count": 6,
   "metadata": {},
   "outputs": [],
   "source": [
    "from datetime import datetime as dt"
   ]
  },
  {
   "cell_type": "code",
   "execution_count": 7,
   "metadata": {},
   "outputs": [],
   "source": [
    "from datetime import timedelta as td"
   ]
  },
  {
   "cell_type": "code",
   "execution_count": 8,
   "metadata": {},
   "outputs": [
    {
     "data": {
      "text/plain": [
       "datetime.date(2022, 6, 5)"
      ]
     },
     "execution_count": 8,
     "metadata": {},
     "output_type": "execute_result"
    }
   ],
   "source": [
    "start_time = dt.now().date() - td(days=int(baseline_days))\n",
    "start_time"
   ]
  },
  {
   "cell_type": "code",
   "execution_count": 9,
   "metadata": {},
   "outputs": [],
   "source": [
    "start_file = f\"{dt.strftime(start_time, '%Y-%m-%d')}-0.json.gz\""
   ]
  },
  {
   "cell_type": "code",
   "execution_count": 10,
   "metadata": {},
   "outputs": [
    {
     "data": {
      "text/plain": [
       "'2022-06-05-0.json.gz'"
      ]
     },
     "execution_count": 10,
     "metadata": {},
     "output_type": "execute_result"
    }
   ],
   "source": [
    "start_file"
   ]
  },
  {
   "cell_type": "code",
   "execution_count": 11,
   "metadata": {},
   "outputs": [],
   "source": [
    "job_details = {\n",
    "    'job_id': 'ghactivity_ingest',\n",
    "    'job_description': 'Ingest ghactivity data to s3',\n",
    "    'is_active': 'Y',\n",
    "    'baseline_days': 3,\n",
    "    'job_run_bookmark_details': {\n",
    "        'last_run_file_name': start_file,\n",
    "    }\n",
    "}"
   ]
  },
  {
   "cell_type": "code",
   "execution_count": 12,
   "metadata": {},
   "outputs": [],
   "source": [
    "dynamodb = boto3.resource('dynamodb')"
   ]
  },
  {
   "cell_type": "code",
   "execution_count": 13,
   "metadata": {},
   "outputs": [],
   "source": [
    "table = dynamodb.Table('jobs')"
   ]
  },
  {
   "cell_type": "code",
   "execution_count": 14,
   "metadata": {},
   "outputs": [
    {
     "data": {
      "text/plain": [
       "{'ResponseMetadata': {'RequestId': 'FP3KCO881COGKQARCKP9EIQ7O3VV4KQNSO5AEMVJF66Q9ASUAAJG',\n",
       "  'HTTPStatusCode': 200,\n",
       "  'HTTPHeaders': {'server': 'Server',\n",
       "   'date': 'Tue, 07 Jun 2022 23:03:30 GMT',\n",
       "   'content-type': 'application/x-amz-json-1.0',\n",
       "   'content-length': '2',\n",
       "   'connection': 'keep-alive',\n",
       "   'x-amzn-requestid': 'FP3KCO881COGKQARCKP9EIQ7O3VV4KQNSO5AEMVJF66Q9ASUAAJG',\n",
       "   'x-amz-crc32': '2745614147'},\n",
       "  'RetryAttempts': 0}}"
      ]
     },
     "execution_count": 14,
     "metadata": {},
     "output_type": "execute_result"
    }
   ],
   "source": [
    "table.put_item(Item=job_details)"
   ]
  },
  {
   "cell_type": "code",
   "execution_count": 15,
   "metadata": {},
   "outputs": [
    {
     "data": {
      "text/plain": [
       "{'Item': {'job_description': 'Ingest ghactivity data to s3',\n",
       "  'is_active': 'Y',\n",
       "  'job_id': 'ghactivity_ingest',\n",
       "  'baseline_days': Decimal('3'),\n",
       "  'job_run_bookmark_details': {'last_run_file_name': '2022-06-05-0.json.gz'}},\n",
       " 'ResponseMetadata': {'RequestId': '5LM46Q438QJBF9GVIILTV1H0AJVV4KQNSO5AEMVJF66Q9ASUAAJG',\n",
       "  'HTTPStatusCode': 200,\n",
       "  'HTTPHeaders': {'server': 'Server',\n",
       "   'date': 'Tue, 07 Jun 2022 23:03:38 GMT',\n",
       "   'content-type': 'application/x-amz-json-1.0',\n",
       "   'content-length': '233',\n",
       "   'connection': 'keep-alive',\n",
       "   'x-amzn-requestid': '5LM46Q438QJBF9GVIILTV1H0AJVV4KQNSO5AEMVJF66Q9ASUAAJG',\n",
       "   'x-amz-crc32': '2433398915'},\n",
       "  'RetryAttempts': 0}}"
      ]
     },
     "execution_count": 15,
     "metadata": {},
     "output_type": "execute_result"
    }
   ],
   "source": [
    "table.get_item(Key={'job_id': 'ghactivity_ingest'})"
   ]
  },
  {
   "cell_type": "code",
   "execution_count": 16,
   "metadata": {},
   "outputs": [],
   "source": [
    "job_run_bookmark_details = table. \\\n",
    "    get_item(Key={'job_id': 'ghactivity_ingest'})['Item']['job_run_bookmark_details']"
   ]
  },
  {
   "cell_type": "code",
   "execution_count": 17,
   "metadata": {},
   "outputs": [
    {
     "data": {
      "text/plain": [
       "{'last_run_file_name': '2022-06-05-0.json.gz'}"
      ]
     },
     "execution_count": 17,
     "metadata": {},
     "output_type": "execute_result"
    }
   ],
   "source": [
    "job_run_bookmark_details"
   ]
  },
  {
   "cell_type": "code",
   "execution_count": 18,
   "metadata": {},
   "outputs": [],
   "source": [
    "dt_part = job_run_bookmark_details['last_run_file_name'].split('.')[0]"
   ]
  },
  {
   "cell_type": "code",
   "execution_count": 19,
   "metadata": {},
   "outputs": [
    {
     "data": {
      "text/plain": [
       "'2022-06-05-0'"
      ]
     },
     "execution_count": 19,
     "metadata": {},
     "output_type": "execute_result"
    }
   ],
   "source": [
    "dt_part"
   ]
  },
  {
   "cell_type": "code",
   "execution_count": 21,
   "metadata": {},
   "outputs": [],
   "source": [
    "next_file = f\"{dt.strftime(dt.strptime(dt_part, '%Y-%m-%d-%H') + td(hours=1), '%Y-%m-%d-%-H')}.json.gz\""
   ]
  },
  {
   "cell_type": "code",
   "execution_count": 22,
   "metadata": {},
   "outputs": [
    {
     "data": {
      "text/plain": [
       "'2022-06-05-1.json.gz'"
      ]
     },
     "execution_count": 22,
     "metadata": {},
     "output_type": "execute_result"
    }
   ],
   "source": [
    "next_file"
   ]
  },
  {
   "cell_type": "code",
   "execution_count": 23,
   "metadata": {},
   "outputs": [],
   "source": [
    "import requests"
   ]
  },
  {
   "cell_type": "code",
   "execution_count": 24,
   "metadata": {},
   "outputs": [],
   "source": [
    "res = requests.get(f'https://data.gharchive.org/{next_file}')"
   ]
  },
  {
   "cell_type": "code",
   "execution_count": 29,
   "metadata": {},
   "outputs": [],
   "source": [
    "file = open(f'data/{next_file}', 'wb')"
   ]
  },
  {
   "cell_type": "code",
   "execution_count": 30,
   "metadata": {},
   "outputs": [
    {
     "data": {
      "text/plain": [
       "39078924"
      ]
     },
     "execution_count": 30,
     "metadata": {},
     "output_type": "execute_result"
    }
   ],
   "source": [
    "file.write(res.content)"
   ]
  },
  {
   "cell_type": "code",
   "execution_count": 31,
   "metadata": {},
   "outputs": [],
   "source": [
    "file.close()"
   ]
  },
  {
   "cell_type": "code",
   "execution_count": 32,
   "metadata": {},
   "outputs": [
    {
     "name": "stdout",
     "output_type": "stream",
     "text": [
      "total 223936\n",
      "-rw-r--r--  1 itversity  staff       127 Jun  7 10:46 2022-06-07-8.json.gz\n",
      "-rw-r--r--  1 itversity  staff  41575819 Jun  7 11:02 2022-06-05-8.json.gz\n",
      "-rw-r--r--  1 itversity  staff  33989636 Jun  8 04:22 2022-06-05-0.json.gz\n",
      "-rw-r--r--  1 itversity  staff  39078924 Jun  8 04:44 2022-06-05-1.json.gz\n"
     ]
    }
   ],
   "source": [
    "!ls -ltr data/"
   ]
  },
  {
   "cell_type": "code",
   "execution_count": 33,
   "metadata": {},
   "outputs": [],
   "source": [
    "import pandas as pd"
   ]
  },
  {
   "cell_type": "code",
   "execution_count": 34,
   "metadata": {},
   "outputs": [],
   "source": [
    "df = pd.read_json(f'data/{next_file}', lines=True, orient='records')"
   ]
  },
  {
   "cell_type": "code",
   "execution_count": 35,
   "metadata": {},
   "outputs": [
    {
     "data": {
      "text/html": [
       "<div>\n",
       "<style scoped>\n",
       "    .dataframe tbody tr th:only-of-type {\n",
       "        vertical-align: middle;\n",
       "    }\n",
       "\n",
       "    .dataframe tbody tr th {\n",
       "        vertical-align: top;\n",
       "    }\n",
       "\n",
       "    .dataframe thead th {\n",
       "        text-align: right;\n",
       "    }\n",
       "</style>\n",
       "<table border=\"1\" class=\"dataframe\">\n",
       "  <thead>\n",
       "    <tr style=\"text-align: right;\">\n",
       "      <th></th>\n",
       "      <th>id</th>\n",
       "      <th>type</th>\n",
       "      <th>actor</th>\n",
       "      <th>repo</th>\n",
       "      <th>payload</th>\n",
       "      <th>public</th>\n",
       "      <th>created_at</th>\n",
       "      <th>org</th>\n",
       "    </tr>\n",
       "  </thead>\n",
       "  <tbody>\n",
       "    <tr>\n",
       "      <th>0</th>\n",
       "      <td>22164283627</td>\n",
       "      <td>PushEvent</td>\n",
       "      <td>{'id': 8517910, 'login': 'LombiqBot', 'display...</td>\n",
       "      <td>{'id': 86929735, 'name': 'Lombiq/Orchard', 'ur...</td>\n",
       "      <td>{'push_id': 10072883326, 'size': 0, 'distinct_...</td>\n",
       "      <td>True</td>\n",
       "      <td>2022-06-05 01:00:00+00:00</td>\n",
       "      <td>{'id': 8158177, 'login': 'Lombiq', 'gravatar_i...</td>\n",
       "    </tr>\n",
       "    <tr>\n",
       "      <th>1</th>\n",
       "      <td>22164283628</td>\n",
       "      <td>PushEvent</td>\n",
       "      <td>{'id': 61752841, 'login': 'itzomen', 'display_...</td>\n",
       "      <td>{'id': 317517378, 'name': 'itzomen/itzomen', '...</td>\n",
       "      <td>{'push_id': 10072883324, 'size': 1, 'distinct_...</td>\n",
       "      <td>True</td>\n",
       "      <td>2022-06-05 01:00:00+00:00</td>\n",
       "      <td>NaN</td>\n",
       "    </tr>\n",
       "    <tr>\n",
       "      <th>2</th>\n",
       "      <td>22164283631</td>\n",
       "      <td>PullRequestEvent</td>\n",
       "      <td>{'id': 16241795, 'login': 'chethanuk-plutoflum...</td>\n",
       "      <td>{'id': 33884891, 'name': 'apache/airflow', 'ur...</td>\n",
       "      <td>{'action': 'opened', 'number': 24212, 'pull_re...</td>\n",
       "      <td>True</td>\n",
       "      <td>2022-06-05 01:00:00+00:00</td>\n",
       "      <td>{'id': 47359, 'login': 'apache', 'gravatar_id'...</td>\n",
       "    </tr>\n",
       "    <tr>\n",
       "      <th>3</th>\n",
       "      <td>22164283637</td>\n",
       "      <td>CreateEvent</td>\n",
       "      <td>{'id': 106893877, 'login': 'o001k', 'display_l...</td>\n",
       "      <td>{'id': 499969746, 'name': 'o001k/o001k', 'url'...</td>\n",
       "      <td>{'ref': 'main', 'ref_type': 'branch', 'master_...</td>\n",
       "      <td>True</td>\n",
       "      <td>2022-06-05 01:00:00+00:00</td>\n",
       "      <td>NaN</td>\n",
       "    </tr>\n",
       "    <tr>\n",
       "      <th>4</th>\n",
       "      <td>22164283640</td>\n",
       "      <td>PushEvent</td>\n",
       "      <td>{'id': 29139614, 'login': 'renovate[bot]', 'di...</td>\n",
       "      <td>{'id': 420086962, 'name': 'AR10Dev/solid-tailw...</td>\n",
       "      <td>{'push_id': 10072883335, 'size': 2, 'distinct_...</td>\n",
       "      <td>True</td>\n",
       "      <td>2022-06-05 01:00:00+00:00</td>\n",
       "      <td>NaN</td>\n",
       "    </tr>\n",
       "    <tr>\n",
       "      <th>...</th>\n",
       "      <td>...</td>\n",
       "      <td>...</td>\n",
       "      <td>...</td>\n",
       "      <td>...</td>\n",
       "      <td>...</td>\n",
       "      <td>...</td>\n",
       "      <td>...</td>\n",
       "      <td>...</td>\n",
       "    </tr>\n",
       "    <tr>\n",
       "      <th>89816</th>\n",
       "      <td>22164505936</td>\n",
       "      <td>PushEvent</td>\n",
       "      <td>{'id': 10810283, 'login': 'direwolf-github', '...</td>\n",
       "      <td>{'id': 499977687, 'name': 'direwolf-github/eph...</td>\n",
       "      <td>{'push_id': 10073038554, 'size': 1, 'distinct_...</td>\n",
       "      <td>True</td>\n",
       "      <td>2022-06-05 01:59:59+00:00</td>\n",
       "      <td>NaN</td>\n",
       "    </tr>\n",
       "    <tr>\n",
       "      <th>89817</th>\n",
       "      <td>22164505937</td>\n",
       "      <td>CreateEvent</td>\n",
       "      <td>{'id': 41898282, 'login': 'github-actions[bot]...</td>\n",
       "      <td>{'id': 454846486, 'name': 'avik-pal/FastDEQ.jl...</td>\n",
       "      <td>{'ref': 'compathelper/new_version/2022-06-05-0...</td>\n",
       "      <td>True</td>\n",
       "      <td>2022-06-05 01:59:59+00:00</td>\n",
       "      <td>NaN</td>\n",
       "    </tr>\n",
       "    <tr>\n",
       "      <th>89818</th>\n",
       "      <td>22164505938</td>\n",
       "      <td>PushEvent</td>\n",
       "      <td>{'id': 41898282, 'login': 'github-actions[bot]...</td>\n",
       "      <td>{'id': 420744186, 'name': 'WelderBM/WelderBM',...</td>\n",
       "      <td>{'push_id': 10073038553, 'size': 1, 'distinct_...</td>\n",
       "      <td>True</td>\n",
       "      <td>2022-06-05 01:59:59+00:00</td>\n",
       "      <td>NaN</td>\n",
       "    </tr>\n",
       "    <tr>\n",
       "      <th>89819</th>\n",
       "      <td>22164505940</td>\n",
       "      <td>PushEvent</td>\n",
       "      <td>{'id': 66223278, 'login': 'Jordanseggers', 'di...</td>\n",
       "      <td>{'id': 499976889, 'name': 'Capstone-May22-Team...</td>\n",
       "      <td>{'push_id': 10073038558, 'size': 1, 'distinct_...</td>\n",
       "      <td>True</td>\n",
       "      <td>2022-06-05 01:59:59+00:00</td>\n",
       "      <td>{'id': 106623008, 'login': 'Capstone-May22-Tea...</td>\n",
       "    </tr>\n",
       "    <tr>\n",
       "      <th>89820</th>\n",
       "      <td>22164505942</td>\n",
       "      <td>PushEvent</td>\n",
       "      <td>{'id': 41898282, 'login': 'github-actions[bot]...</td>\n",
       "      <td>{'id': 475940379, 'name': 'caio-action/caio-ac...</td>\n",
       "      <td>{'push_id': 10073038557, 'size': 1, 'distinct_...</td>\n",
       "      <td>True</td>\n",
       "      <td>2022-06-05 01:59:59+00:00</td>\n",
       "      <td>NaN</td>\n",
       "    </tr>\n",
       "  </tbody>\n",
       "</table>\n",
       "<p>89821 rows × 8 columns</p>\n",
       "</div>"
      ],
      "text/plain": [
       "                id              type  \\\n",
       "0      22164283627         PushEvent   \n",
       "1      22164283628         PushEvent   \n",
       "2      22164283631  PullRequestEvent   \n",
       "3      22164283637       CreateEvent   \n",
       "4      22164283640         PushEvent   \n",
       "...            ...               ...   \n",
       "89816  22164505936         PushEvent   \n",
       "89817  22164505937       CreateEvent   \n",
       "89818  22164505938         PushEvent   \n",
       "89819  22164505940         PushEvent   \n",
       "89820  22164505942         PushEvent   \n",
       "\n",
       "                                                   actor  \\\n",
       "0      {'id': 8517910, 'login': 'LombiqBot', 'display...   \n",
       "1      {'id': 61752841, 'login': 'itzomen', 'display_...   \n",
       "2      {'id': 16241795, 'login': 'chethanuk-plutoflum...   \n",
       "3      {'id': 106893877, 'login': 'o001k', 'display_l...   \n",
       "4      {'id': 29139614, 'login': 'renovate[bot]', 'di...   \n",
       "...                                                  ...   \n",
       "89816  {'id': 10810283, 'login': 'direwolf-github', '...   \n",
       "89817  {'id': 41898282, 'login': 'github-actions[bot]...   \n",
       "89818  {'id': 41898282, 'login': 'github-actions[bot]...   \n",
       "89819  {'id': 66223278, 'login': 'Jordanseggers', 'di...   \n",
       "89820  {'id': 41898282, 'login': 'github-actions[bot]...   \n",
       "\n",
       "                                                    repo  \\\n",
       "0      {'id': 86929735, 'name': 'Lombiq/Orchard', 'ur...   \n",
       "1      {'id': 317517378, 'name': 'itzomen/itzomen', '...   \n",
       "2      {'id': 33884891, 'name': 'apache/airflow', 'ur...   \n",
       "3      {'id': 499969746, 'name': 'o001k/o001k', 'url'...   \n",
       "4      {'id': 420086962, 'name': 'AR10Dev/solid-tailw...   \n",
       "...                                                  ...   \n",
       "89816  {'id': 499977687, 'name': 'direwolf-github/eph...   \n",
       "89817  {'id': 454846486, 'name': 'avik-pal/FastDEQ.jl...   \n",
       "89818  {'id': 420744186, 'name': 'WelderBM/WelderBM',...   \n",
       "89819  {'id': 499976889, 'name': 'Capstone-May22-Team...   \n",
       "89820  {'id': 475940379, 'name': 'caio-action/caio-ac...   \n",
       "\n",
       "                                                 payload  public  \\\n",
       "0      {'push_id': 10072883326, 'size': 0, 'distinct_...    True   \n",
       "1      {'push_id': 10072883324, 'size': 1, 'distinct_...    True   \n",
       "2      {'action': 'opened', 'number': 24212, 'pull_re...    True   \n",
       "3      {'ref': 'main', 'ref_type': 'branch', 'master_...    True   \n",
       "4      {'push_id': 10072883335, 'size': 2, 'distinct_...    True   \n",
       "...                                                  ...     ...   \n",
       "89816  {'push_id': 10073038554, 'size': 1, 'distinct_...    True   \n",
       "89817  {'ref': 'compathelper/new_version/2022-06-05-0...    True   \n",
       "89818  {'push_id': 10073038553, 'size': 1, 'distinct_...    True   \n",
       "89819  {'push_id': 10073038558, 'size': 1, 'distinct_...    True   \n",
       "89820  {'push_id': 10073038557, 'size': 1, 'distinct_...    True   \n",
       "\n",
       "                     created_at  \\\n",
       "0     2022-06-05 01:00:00+00:00   \n",
       "1     2022-06-05 01:00:00+00:00   \n",
       "2     2022-06-05 01:00:00+00:00   \n",
       "3     2022-06-05 01:00:00+00:00   \n",
       "4     2022-06-05 01:00:00+00:00   \n",
       "...                         ...   \n",
       "89816 2022-06-05 01:59:59+00:00   \n",
       "89817 2022-06-05 01:59:59+00:00   \n",
       "89818 2022-06-05 01:59:59+00:00   \n",
       "89819 2022-06-05 01:59:59+00:00   \n",
       "89820 2022-06-05 01:59:59+00:00   \n",
       "\n",
       "                                                     org  \n",
       "0      {'id': 8158177, 'login': 'Lombiq', 'gravatar_i...  \n",
       "1                                                    NaN  \n",
       "2      {'id': 47359, 'login': 'apache', 'gravatar_id'...  \n",
       "3                                                    NaN  \n",
       "4                                                    NaN  \n",
       "...                                                  ...  \n",
       "89816                                                NaN  \n",
       "89817                                                NaN  \n",
       "89818                                                NaN  \n",
       "89819  {'id': 106623008, 'login': 'Capstone-May22-Tea...  \n",
       "89820                                                NaN  \n",
       "\n",
       "[89821 rows x 8 columns]"
      ]
     },
     "execution_count": 35,
     "metadata": {},
     "output_type": "execute_result"
    }
   ],
   "source": [
    "df"
   ]
  },
  {
   "cell_type": "code",
   "execution_count": 36,
   "metadata": {},
   "outputs": [
    {
     "data": {
      "text/plain": [
       "Index(['id', 'type', 'actor', 'repo', 'payload', 'public', 'created_at',\n",
       "       'org'],\n",
       "      dtype='object')"
      ]
     },
     "execution_count": 36,
     "metadata": {},
     "output_type": "execute_result"
    }
   ],
   "source": [
    "df.columns"
   ]
  },
  {
   "cell_type": "code",
   "execution_count": 37,
   "metadata": {},
   "outputs": [
    {
     "data": {
      "text/plain": [
       "id                          int64\n",
       "type                       object\n",
       "actor                      object\n",
       "repo                       object\n",
       "payload                    object\n",
       "public                       bool\n",
       "created_at    datetime64[ns, UTC]\n",
       "org                        object\n",
       "dtype: object"
      ]
     },
     "execution_count": 37,
     "metadata": {},
     "output_type": "execute_result"
    }
   ],
   "source": [
    "df.dtypes"
   ]
  },
  {
   "cell_type": "code",
   "execution_count": 38,
   "metadata": {},
   "outputs": [
    {
     "data": {
      "text/plain": [
       "(89821, 8)"
      ]
     },
     "execution_count": 38,
     "metadata": {},
     "output_type": "execute_result"
    }
   ],
   "source": [
    "df.shape"
   ]
  },
  {
   "cell_type": "code",
   "execution_count": null,
   "metadata": {},
   "outputs": [],
   "source": []
  }
 ],
 "metadata": {
  "interpreter": {
   "hash": "4bcd215c4a14989c946b0b0624b2d9cd8bc3b4ff7a1c5d476ef679e9df9c7085"
  },
  "kernelspec": {
   "display_name": "Python 3.9.12 ('ga-venv': venv)",
   "language": "python",
   "name": "python3"
  },
  "language_info": {
   "codemirror_mode": {
    "name": "ipython",
    "version": 3
   },
   "file_extension": ".py",
   "mimetype": "text/x-python",
   "name": "python",
   "nbconvert_exporter": "python",
   "pygments_lexer": "ipython3",
   "version": "3.9.12"
  },
  "orig_nbformat": 4
 },
 "nbformat": 4,
 "nbformat_minor": 2
}
