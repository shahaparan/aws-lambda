{
 "cells": [
  {
   "cell_type": "code",
   "execution_count": null,
   "metadata": {},
   "outputs": [],
   "source": [
    "from pyathena import connect"
   ]
  },
  {
   "cell_type": "code",
   "execution_count": null,
   "metadata": {},
   "outputs": [],
   "source": [
    "import pandas as pd"
   ]
  },
  {
   "cell_type": "code",
   "execution_count": null,
   "metadata": {},
   "outputs": [],
   "source": [
    "conn = connect(\n",
    "    s3_staging_dir='s3://aiathenaresults/ghactivity/'\n",
    ")"
   ]
  },
  {
   "cell_type": "code",
   "execution_count": null,
   "metadata": {},
   "outputs": [],
   "source": [
    "pd.read_sql('SELECT * FROM github_db.ghactivity LIMIT 20', conn)"
   ]
  },
  {
   "cell_type": "code",
   "execution_count": null,
   "metadata": {},
   "outputs": [],
   "source": [
    "pd.read_sql(\n",
    "    '''\n",
    "        SELECT count(*) FROM github_db.ghactivity\n",
    "        WHERE org IS NULL\n",
    "    ''',\n",
    "    conn\n",
    ")"
   ]
  },
  {
   "cell_type": "code",
   "execution_count": null,
   "metadata": {},
   "outputs": [],
   "source": [
    "pd.read_sql(\n",
    "    '''\n",
    "        SELECT count(*) FROM github_db.ghactivity\n",
    "        WHERE org IS NOT NULL\n",
    "    ''',\n",
    "    conn\n",
    ")"
   ]
  },
  {
   "cell_type": "code",
   "execution_count": null,
   "metadata": {},
   "outputs": [],
   "source": [
    "pd.read_sql(\n",
    "    '''\n",
    "        SELECT id, type, \n",
    "            CASE \n",
    "                WHEN org IS NULL \n",
    "                    THEN 'IND'\n",
    "                ELSE 'ORG'\n",
    "            END\n",
    "        FROM github_db.ghactivity\n",
    "        LIMIT 10\n",
    "    ''',\n",
    "    conn\n",
    ")"
   ]
  },
  {
   "cell_type": "code",
   "execution_count": null,
   "metadata": {},
   "outputs": [],
   "source": [
    "pd.read_sql(\n",
    "    '''\n",
    "        SELECT\n",
    "            CASE \n",
    "                WHEN org IS NULL \n",
    "                    THEN 'IND'\n",
    "                ELSE 'ORG'\n",
    "            END,\n",
    "            count(*) AS activity_count\n",
    "        FROM github_db.ghactivity\n",
    "        GROUP BY\n",
    "            CASE \n",
    "                WHEN org IS NULL \n",
    "                    THEN 'IND'\n",
    "                ELSE 'ORG'\n",
    "            END\n",
    "        LIMIT 10\n",
    "    ''',\n",
    "    conn\n",
    ")"
   ]
  },
  {
   "cell_type": "code",
   "execution_count": null,
   "metadata": {},
   "outputs": [],
   "source": []
  }
 ],
 "metadata": {
  "kernelspec": {
   "display_name": "Python 3.9.12 ('ga-venv': venv)",
   "language": "python",
   "name": "python3"
  },
  "language_info": {
   "codemirror_mode": {
    "name": "ipython",
    "version": 3
   },
   "file_extension": ".py",
   "mimetype": "text/x-python",
   "name": "python",
   "nbconvert_exporter": "python",
   "pygments_lexer": "ipython3",
   "version": "3.9.12"
  },
  "orig_nbformat": 4,
  "vscode": {
   "interpreter": {
    "hash": "4bcd215c4a14989c946b0b0624b2d9cd8bc3b4ff7a1c5d476ef679e9df9c7085"
   }
  }
 },
 "nbformat": 4,
 "nbformat_minor": 2
}
