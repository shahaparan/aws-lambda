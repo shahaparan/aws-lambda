{
 "cells": [
  {
   "cell_type": "code",
   "execution_count": null,
   "metadata": {},
   "outputs": [],
   "source": [
    "import os"
   ]
  },
  {
   "cell_type": "code",
   "execution_count": null,
   "metadata": {},
   "outputs": [],
   "source": [
    "os.environ.setdefault('AWS_PROFILE', 'ghactivity')"
   ]
  },
  {
   "cell_type": "code",
   "execution_count": null,
   "metadata": {},
   "outputs": [],
   "source": [
    "!aws s3 ls s3://aigithub/raw/ghactivity/ --recursive"
   ]
  },
  {
   "cell_type": "code",
   "execution_count": null,
   "metadata": {},
   "outputs": [],
   "source": [
    "!aws s3 ls s3://aigithub/landing/ghactivity/ --recursive"
   ]
  },
  {
   "cell_type": "code",
   "execution_count": null,
   "metadata": {},
   "outputs": [],
   "source": [
    "import pandas as pd"
   ]
  },
  {
   "cell_type": "code",
   "execution_count": null,
   "metadata": {},
   "outputs": [],
   "source": [
    "df = pd.read_parquet('s3://aigithub/raw/ghactivity/year=2022/month=06/dayofmonth=05/part-2022-06-05-3-46b6e7c7-efca-11ec-b5ee-4fbc996b7b6c.snappy.parquet')"
   ]
  },
  {
   "cell_type": "code",
   "execution_count": null,
   "metadata": {},
   "outputs": [],
   "source": [
    "df.columns"
   ]
  },
  {
   "cell_type": "code",
   "execution_count": 11,
   "metadata": {},
   "outputs": [],
   "source": [
    "import boto3"
   ]
  },
  {
   "cell_type": "code",
   "execution_count": 12,
   "metadata": {},
   "outputs": [],
   "source": [
    "dynamodb = boto3.resource('dynamodb')"
   ]
  },
  {
   "cell_type": "code",
   "execution_count": 13,
   "metadata": {},
   "outputs": [],
   "source": [
    "jobs_table = dynamodb.Table('jobs')"
   ]
  },
  {
   "cell_type": "code",
   "execution_count": 14,
   "metadata": {},
   "outputs": [
    {
     "data": {
      "text/plain": [
       "{'Items': [{'job_description': 'Transform Files from JSON to Parquet',\n",
       "   'is_active': 'Y',\n",
       "   'job_id': 'ghactivity_transform',\n",
       "   'job_run_bookmark_details': {'last_run_tgt_file_pattern': 's3://aigithub/raw/ghactivity/year=2022/month=06/dayofmonth=19/part-2022-06-19-0',\n",
       "    'last_run_src_file_name': '2022-06-19-0.json.gz',\n",
       "    'status_code': Decimal('200')}},\n",
       "  {'job_description': 'Ingest ghactivity data to s3',\n",
       "   'is_active': 'Y',\n",
       "   'job_id': 'ghactivity_ingest',\n",
       "   'baseline_days': Decimal('3'),\n",
       "   'job_run_bookmark_details': {'last_run_file_name': 's3://aigithub/landing/ghactivity/2022-06-19-0.json.gz',\n",
       "    'status_code': Decimal('200')}}],\n",
       " 'Count': 2,\n",
       " 'ScannedCount': 2,\n",
       " 'ResponseMetadata': {'RequestId': 'J3V0V6SOTC5E31DSEDSI4B9GVBVV4KQNSO5AEMVJF66Q9ASUAAJG',\n",
       "  'HTTPStatusCode': 200,\n",
       "  'HTTPHeaders': {'server': 'Server',\n",
       "   'date': 'Wed, 22 Jun 2022 12:54:01 GMT',\n",
       "   'content-type': 'application/x-amz-json-1.0',\n",
       "   'content-length': '678',\n",
       "   'connection': 'keep-alive',\n",
       "   'x-amzn-requestid': 'J3V0V6SOTC5E31DSEDSI4B9GVBVV4KQNSO5AEMVJF66Q9ASUAAJG',\n",
       "   'x-amz-crc32': '9209995'},\n",
       "  'RetryAttempts': 0}}"
      ]
     },
     "execution_count": 14,
     "metadata": {},
     "output_type": "execute_result"
    }
   ],
   "source": [
    "jobs_table.scan()"
   ]
  },
  {
   "cell_type": "code",
   "execution_count": 15,
   "metadata": {},
   "outputs": [],
   "source": [
    "job_run_details_table = dynamodb.Table('job_run_details')"
   ]
  },
  {
   "cell_type": "code",
   "execution_count": 16,
   "metadata": {},
   "outputs": [
    {
     "data": {
      "text/plain": [
       "{'Items': [{'create_ts': Decimal('1655901944'),\n",
       "   'job_id': 'ghactivity_transform',\n",
       "   'job_run_bookmark_details': {'last_run_tgt_file_pattern': 's3://aigithub/raw/ghactivity/year=2022/month=06/dayofmonth=19/part-2022-06-19-0',\n",
       "    'last_run_src_file_name': '2022-06-19-0.json.gz',\n",
       "    'status_code': Decimal('200')},\n",
       "   'job_run_time': Decimal('1655901931')},\n",
       "  {'create_ts': Decimal('1655901929'),\n",
       "   'job_id': 'ghactivity_ingest',\n",
       "   'job_run_bookmark_details': {'last_run_file_name': 's3://aigithub/landing/ghactivity/2022-06-19-0.json.gz',\n",
       "    'status_code': Decimal('200')},\n",
       "   'job_run_time': Decimal('1655901928')}],\n",
       " 'Count': 2,\n",
       " 'ScannedCount': 2,\n",
       " 'ResponseMetadata': {'RequestId': '6FC254EBJ58QB71IFCLQQ1H94FVV4KQNSO5AEMVJF66Q9ASUAAJG',\n",
       "  'HTTPStatusCode': 200,\n",
       "  'HTTPHeaders': {'server': 'Server',\n",
       "   'date': 'Wed, 22 Jun 2022 12:57:50 GMT',\n",
       "   'content-type': 'application/x-amz-json-1.0',\n",
       "   'content-length': '620',\n",
       "   'connection': 'keep-alive',\n",
       "   'x-amzn-requestid': '6FC254EBJ58QB71IFCLQQ1H94FVV4KQNSO5AEMVJF66Q9ASUAAJG',\n",
       "   'x-amz-crc32': '637360239'},\n",
       "  'RetryAttempts': 0}}"
      ]
     },
     "execution_count": 16,
     "metadata": {},
     "output_type": "execute_result"
    }
   ],
   "source": [
    "job_run_details_table.scan()"
   ]
  },
  {
   "cell_type": "code",
   "execution_count": null,
   "metadata": {},
   "outputs": [],
   "source": []
  }
 ],
 "metadata": {
  "kernelspec": {
   "display_name": "Python 3.9.12 ('ga-venv': venv)",
   "language": "python",
   "name": "python3"
  },
  "language_info": {
   "codemirror_mode": {
    "name": "ipython",
    "version": 3
   },
   "file_extension": ".py",
   "mimetype": "text/x-python",
   "name": "python",
   "nbconvert_exporter": "python",
   "pygments_lexer": "ipython3",
   "version": "3.9.12"
  },
  "orig_nbformat": 4,
  "vscode": {
   "interpreter": {
    "hash": "4bcd215c4a14989c946b0b0624b2d9cd8bc3b4ff7a1c5d476ef679e9df9c7085"
   }
  }
 },
 "nbformat": 4,
 "nbformat_minor": 2
}
