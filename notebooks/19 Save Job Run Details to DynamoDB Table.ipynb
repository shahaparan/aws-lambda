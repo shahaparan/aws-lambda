{
 "cells": [
  {
   "cell_type": "code",
   "execution_count": 1,
   "id": "3d7d9dd2",
   "metadata": {},
   "outputs": [
    {
     "data": {
      "text/plain": [
       "'ghactivity'"
      ]
     },
     "execution_count": 1,
     "metadata": {},
     "output_type": "execute_result"
    }
   ],
   "source": [
    "import os\n",
    "os.environ.setdefault('AWS_PROFILE', 'ghactivity')"
   ]
  },
  {
   "cell_type": "code",
   "execution_count": 3,
   "id": "55a4cdeb-0e7a-46f5-b39d-2b7130944fad",
   "metadata": {},
   "outputs": [],
   "source": [
    "!aws s3 rm s3://aigithub/landing/ghactivity/ --recursive"
   ]
  },
  {
   "cell_type": "code",
   "execution_count": 4,
   "id": "5add8545-d385-4bf9-ae09-63e88a129c61",
   "metadata": {},
   "outputs": [],
   "source": [
    "import boto3"
   ]
  },
  {
   "cell_type": "code",
   "execution_count": 5,
   "id": "889ad4ac",
   "metadata": {},
   "outputs": [
    {
     "data": {
      "text/plain": [
       "{'ResponseMetadata': {'RequestId': '0DUF7AG28KNSB45I6K23Q31CA7VV4KQNSO5AEMVJF66Q9ASUAAJG',\n",
       "  'HTTPStatusCode': 200,\n",
       "  'HTTPHeaders': {'server': 'Server',\n",
       "   'date': 'Wed, 08 Jun 2022 14:49:33 GMT',\n",
       "   'content-type': 'application/x-amz-json-1.0',\n",
       "   'content-length': '2',\n",
       "   'connection': 'keep-alive',\n",
       "   'x-amzn-requestid': '0DUF7AG28KNSB45I6K23Q31CA7VV4KQNSO5AEMVJF66Q9ASUAAJG',\n",
       "   'x-amz-crc32': '2745614147'},\n",
       "  'RetryAttempts': 0}}"
      ]
     },
     "execution_count": 5,
     "metadata": {},
     "output_type": "execute_result"
    }
   ],
   "source": [
    "dynamodb = boto3.resource('dynamodb')\n",
    "table = dynamodb.Table('jobs')\n",
    "table.delete_item(Key={'job_id': 'ghactivity_ingest'})\n",
    "item = {\n",
    "    'job_id': 'ghactivity_ingest',\n",
    "    'job_description': 'Ingest ghactivity data to s3',\n",
    "    'is_active': 'Y',\n",
    "    'baseline_days': 3\n",
    "}\n",
    "table.put_item(Item=item)"
   ]
  },
  {
   "cell_type": "code",
   "execution_count": 6,
   "id": "46641e86",
   "metadata": {},
   "outputs": [],
   "source": [
    "def get_job_details(job_name):\n",
    "    dynamodb = boto3.resource('dynamodb')\n",
    "    table = dynamodb.Table('jobs')\n",
    "    job_details = table.get_item(Key={'job_id': job_name})['Item']\n",
    "    return job_details"
   ]
  },
  {
   "cell_type": "code",
   "execution_count": 7,
   "id": "4cec7d3c",
   "metadata": {},
   "outputs": [
    {
     "data": {
      "text/plain": [
       "{'job_description': 'Ingest ghactivity data to s3',\n",
       " 'is_active': 'Y',\n",
       " 'job_id': 'ghactivity_ingest',\n",
       " 'baseline_days': Decimal('3')}"
      ]
     },
     "execution_count": 7,
     "metadata": {},
     "output_type": "execute_result"
    }
   ],
   "source": [
    "get_job_details('ghactivity_ingest')    "
   ]
  },
  {
   "cell_type": "code",
   "execution_count": 8,
   "id": "fa38fc6a",
   "metadata": {},
   "outputs": [],
   "source": [
    "from datetime import datetime as dt\n",
    "from datetime import timedelta as td\n",
    "import time"
   ]
  },
  {
   "cell_type": "code",
   "execution_count": 16,
   "id": "c2901e67",
   "metadata": {},
   "outputs": [],
   "source": [
    "def get_next_file_name(job_details):\n",
    "    job_start_time = int(time.mktime(dt.now().timetuple()))\n",
    "    job_run_bookmark_details = job_details.get('job_run_bookmark_details')\n",
    "    baseline_days = int(job_details['baseline_days'])\n",
    "    if job_run_bookmark_details:\n",
    "        dt_part = job_run_bookmark_details['last_run_file_name'].split('.')[0]\n",
    "        next_file_name = f\"{dt.strftime(dt.strptime(dt_part, '%Y-%m-%d-%H') + td(hours=1), '%Y-%m-%d-%-H')}.json.gz\"\n",
    "    else:\n",
    "        next_file_name = f'{dt.strftime(dt.now().date() - td(days=baseline_days), \"%Y-%m-%d\")}-0.json.gz'\n",
    "    return job_start_time, next_file_name"
   ]
  },
  {
   "cell_type": "code",
   "execution_count": 17,
   "id": "8e2a2a1e",
   "metadata": {},
   "outputs": [],
   "source": [
    "job_details = get_job_details('ghactivity_ingest')"
   ]
  },
  {
   "cell_type": "code",
   "execution_count": 18,
   "id": "9ab04765",
   "metadata": {},
   "outputs": [],
   "source": [
    "job_start_time, next_file = get_next_file_name(job_details)"
   ]
  },
  {
   "cell_type": "code",
   "execution_count": 19,
   "id": "113973eb",
   "metadata": {},
   "outputs": [
    {
     "data": {
      "text/plain": [
       "1654700142"
      ]
     },
     "execution_count": 19,
     "metadata": {},
     "output_type": "execute_result"
    }
   ],
   "source": [
    "job_start_time"
   ]
  },
  {
   "cell_type": "code",
   "execution_count": 15,
   "id": "ff9eca73",
   "metadata": {},
   "outputs": [
    {
     "data": {
      "text/plain": [
       "'2022-06-05-0.json.gz'"
      ]
     },
     "execution_count": 15,
     "metadata": {},
     "output_type": "execute_result"
    }
   ],
   "source": [
    "next_file"
   ]
  },
  {
   "cell_type": "code",
   "execution_count": 23,
   "id": "543b0e41",
   "metadata": {},
   "outputs": [],
   "source": [
    "import requests"
   ]
  },
  {
   "cell_type": "code",
   "execution_count": 24,
   "id": "f50a914e",
   "metadata": {},
   "outputs": [],
   "source": [
    "bucket_name = 'aigithub'"
   ]
  },
  {
   "cell_type": "code",
   "execution_count": 25,
   "id": "6e41ce99",
   "metadata": {},
   "outputs": [],
   "source": [
    "folder = 'landing/ghactivity'"
   ]
  },
  {
   "cell_type": "code",
   "execution_count": 29,
   "id": "9339a66c",
   "metadata": {},
   "outputs": [],
   "source": [
    "def upload_file_to_s3(file_name, bucket_name, folder):\n",
    "   print(f'Getting the {file_name} from gharchive')\n",
    "   res = requests.get(f'https://data.gharchive.org/{file_name}')\n",
    "\n",
    "   print(f'Uploading {file_name} to s3 under s3://{bucket_name}/{folder}')\n",
    "   s3_client = boto3.client('s3')\n",
    "   upload_res = s3_client.put_object(\n",
    "      Bucket=bucket_name,\n",
    "      Key=f'{folder}/{file_name}',\n",
    "      Body=res.content\n",
    "   )\n",
    "\n",
    "   return {\n",
    "      'last_run_file_name': f's3://{bucket_name}/{folder}/{file_name}',\n",
    "      'status_code': upload_res['ResponseMetadata']['HTTPStatusCode']\n",
    "   }\n"
   ]
  },
  {
   "cell_type": "code",
   "execution_count": 30,
   "id": "530a4d73",
   "metadata": {},
   "outputs": [
    {
     "name": "stdout",
     "output_type": "stream",
     "text": [
      "Getting the 2022-06-05-0.json.gz from gharchive\n",
      "Uploading 2022-06-05-0.json.gz to s3 under s3://aigithub/landing/ghactivity\n"
     ]
    }
   ],
   "source": [
    "job_run_details = upload_file_to_s3(next_file, bucket_name, folder)"
   ]
  },
  {
   "cell_type": "code",
   "execution_count": 31,
   "id": "7a15edf0",
   "metadata": {},
   "outputs": [],
   "source": [
    "def save_job_run_details(job_details, job_run_details, job_start_time):\n",
    "    dynamodb = boto3.resource('dynamodb')\n",
    "    job_run_details_item = {\n",
    "        'job_id': job_details['job_id'],\n",
    "        'job_run_time': job_start_time,\n",
    "        'job_run_bookmark_details': job_run_details,\n",
    "        'create_ts': int(time.mktime(dt.now().timetuple()))\n",
    "    }\n",
    "    job_run_details_table = dynamodb.Table('job_run_details')\n",
    "    job_run_details_table.put_item(Item=job_run_details_item)\n",
    "    \n",
    "    job_details_table = dynamodb.Table('jobs')\n",
    "    job_details['job_run_bookmark_details'] = job_run_details\n",
    "    job_details_table.put_item(Item=job_details)"
   ]
  },
  {
   "cell_type": "code",
   "execution_count": 32,
   "id": "81ddf0b6",
   "metadata": {},
   "outputs": [],
   "source": [
    "save_job_run_details(job_details, job_run_details, job_start_time)"
   ]
  },
  {
   "cell_type": "code",
   "execution_count": 33,
   "id": "f3ab2cf0-6816-49c7-8e5c-ce2600262f8e",
   "metadata": {},
   "outputs": [
    {
     "name": "stdout",
     "output_type": "stream",
     "text": [
      "2022-06-08 20:38:37   33989636 2022-06-05-0.json.gz\n"
     ]
    }
   ],
   "source": [
    "!aws s3 ls s3://aigithub/landing/ghactivity/"
   ]
  },
  {
   "cell_type": "code",
   "execution_count": null,
   "id": "22969c7f-627f-4582-ab59-d82bc7832436",
   "metadata": {},
   "outputs": [],
   "source": []
  }
 ],
 "metadata": {
  "interpreter": {
   "hash": "4bcd215c4a14989c946b0b0624b2d9cd8bc3b4ff7a1c5d476ef679e9df9c7085"
  },
  "kernelspec": {
   "display_name": "Python 3.9.12 ('ga-venv': venv)",
   "language": "python",
   "name": "python3"
  },
  "language_info": {
   "codemirror_mode": {
    "name": "ipython",
    "version": 3
   },
   "file_extension": ".py",
   "mimetype": "text/x-python",
   "name": "python",
   "nbconvert_exporter": "python",
   "pygments_lexer": "ipython3",
   "version": "3.9.12"
  }
 },
 "nbformat": 4,
 "nbformat_minor": 5
}
